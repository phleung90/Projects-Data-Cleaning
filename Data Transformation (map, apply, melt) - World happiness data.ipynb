{
 "cells": [
  {
   "cell_type": "markdown",
   "metadata": {},
   "source": [
    "## Transforming Data With Pandas  "
   ]
  },
  {
   "cell_type": "markdown",
   "metadata": {},
   "source": [
    "We'll work to answer the following question in this mission:\n",
    "<br>\n",
    "<br>\n",
    "*Which of the factors above contribute the most to the happiness score?*\n",
    "<br>\n",
    "<br>\n",
    "We need to manipulate our data into a format that makes it easier to analyze. We'll explore the following functions and methods to perform this task:\n",
    "- Series.map()\n",
    "- Series.apply()\n",
    "- DataFrame.applymap()\n",
    "- DataFrame.apply()\n",
    "- pd.melt()"
   ]
  },
  {
   "cell_type": "markdown",
   "metadata": {},
   "source": [
    "### Read the data "
   ]
  },
  {
   "cell_type": "code",
   "execution_count": 6,
   "metadata": {},
   "outputs": [],
   "source": [
    "import pandas as pd\n",
    "happiness2015 = pd.read_csv(\"World_Happiness_2015.csv\")\n",
    "happiness2016 = pd.read_csv(\"World_Happiness_2016.csv\")\n",
    "happiness2017 = pd.read_csv(\"World_Happiness_2017.csv\")\n",
    "\n",
    "happiness2015['Year'] = 2015\n",
    "happiness2016['Year'] = 2016\n",
    "happiness2017['Year'] = 2017"
   ]
  },
  {
   "cell_type": "markdown",
   "metadata": {},
   "source": [
    "### Rename the columns "
   ]
  },
  {
   "cell_type": "markdown",
   "metadata": {},
   "source": [
    "First is to use  DataFrame.rename() method to change the 'Economy (GDP per Capita)', 'Health (Life Expectancy)', and 'Trust (Government Corruption)' column names to the names specified in the mapping dictionary."
   ]
  },
  {
   "cell_type": "code",
   "execution_count": 7,
   "metadata": {},
   "outputs": [
    {
     "name": "stdout",
     "output_type": "stream",
     "text": [
      "       Country          Region  Happiness Rank  Happiness Score  \\\n",
      "0  Switzerland  Western Europe               1            7.587   \n",
      "1      Iceland  Western Europe               2            7.561   \n",
      "2      Denmark  Western Europe               3            7.527   \n",
      "3       Norway  Western Europe               4            7.522   \n",
      "4       Canada   North America               5            7.427   \n",
      "\n",
      "   Standard Error  Economy   Family   Health  Freedom    Trust  Generosity  \\\n",
      "0         0.03411  1.39651  1.34951  0.94143  0.66557  0.41978     0.29678   \n",
      "1         0.04884  1.30232  1.40223  0.94784  0.62877  0.14145     0.43630   \n",
      "2         0.03328  1.32548  1.36058  0.87464  0.64938  0.48357     0.34139   \n",
      "3         0.03880  1.45900  1.33095  0.88521  0.66973  0.36503     0.34699   \n",
      "4         0.03553  1.32629  1.32261  0.90563  0.63297  0.32957     0.45811   \n",
      "\n",
      "   Dystopia Residual  Year  \n",
      "0            2.51738  2015  \n",
      "1            2.70201  2015  \n",
      "2            2.49204  2015  \n",
      "3            2.46531  2015  \n",
      "4            2.45176  2015  \n"
     ]
    }
   ],
   "source": [
    "mapping = {'Economy (GDP per Capita)': 'Economy', 'Health (Life Expectancy)': 'Health', 'Trust (Government Corruption)': 'Trust' }\n",
    "\n",
    "happiness2015 = happiness2015.rename(mapping, axis=1)\n",
    "print(happiness2015.head())"
   ]
  },
  {
   "cell_type": "markdown",
   "metadata": {},
   "source": [
    "### Apply a function Element-wise using the map and apply method  "
   ]
  },
  {
   "cell_type": "markdown",
   "metadata": {},
   "source": [
    "When we reviewed happiness2015 in the last screen, you may have noticed that each of the \"factor\" columns consists of numbers\n",
    "<br>\n",
    "<br>\n",
    "However, not only is this definition a little hard to understand, but it can also be challenging to analyze all of these numbers across multiple columns. Instead, we can first convert these numbers to categories that indicate whether the factor has a high impact on the happiness score or a low impact with apply() function \n",
    "<br>\n",
    "<br>\n",
    "This function applies a function element-wise to a column. When we say element-wise, we mean that we pass the function one value in the series at a time and it performs some kind of transformation."
   ]
  },
  {
   "cell_type": "code",
   "execution_count": 8,
   "metadata": {},
   "outputs": [
    {
     "name": "stdout",
     "output_type": "stream",
     "text": [
      "0    High\n",
      "1    High\n",
      "2    High\n",
      "3    High\n",
      "4    High\n",
      "Name: Economy, dtype: object\n"
     ]
    }
   ],
   "source": [
    "def label(element):\n",
    "    if element > 1:\n",
    "        return 'High'\n",
    "    else:\n",
    "        return 'Low'\n",
    "    \n",
    "economy_impact_apply = happiness2015['Economy'].apply(label)\n",
    "print(economy_impact_apply.head()) "
   ]
  },
  {
   "cell_type": "markdown",
   "metadata": {},
   "source": [
    "**Note that these methods don't modify the original series.** \n",
    "<br>\n",
    "<br>\n",
    "If we want to work with the new series in the original dataframe, we must either assign the results back to the original column or create a new column. \n",
    "<br>\n",
    "<br>\n",
    "One thing that differs the apply() and map() function is, apply function accepts another argument.\n",
    "<br>For example,  take in another argument named x. If the element is greater than x, return 'High'. Otherwise, return 'Low'."
   ]
  },
  {
   "cell_type": "code",
   "execution_count": 9,
   "metadata": {},
   "outputs": [
    {
     "name": "stdout",
     "output_type": "stream",
     "text": [
      "0    High\n",
      "1    High\n",
      "2    High\n",
      "3    High\n",
      "4    High\n",
      "Name: Economy, dtype: object\n"
     ]
    }
   ],
   "source": [
    "def label(element, x):\n",
    "    if element > x:\n",
    "        return 'High'\n",
    "    else:\n",
    "        return 'Low'\n",
    "    \n",
    "economy_impact_apply = happiness2015['Economy'].apply(label, x=.8)\n",
    "print(economy_impact_apply.head()) "
   ]
  },
  {
   "cell_type": "markdown",
   "metadata": {},
   "source": [
    "### Apply a function Element-wise to Multiple Columns using applymap method  "
   ]
  },
  {
   "cell_type": "markdown",
   "metadata": {},
   "source": [
    "So far, we've transformed just one column at a time. If we wanted to transform more than one column, we could use the Series.map() or Series.apply() method to transform them.\n",
    "<br>\n",
    "<br>\n",
    "However, it would be easier to just apply the same function to all of the factor columns (Economy, Health, Family, Freedom, Generosity, Trust) at once. Fortunately, however, pandas already has a method that can apply functions element-wise to multiple columns at once - the DataFrame.applymap()\n",
    "<br>\n",
    "<br>\n",
    "Just like with the Series.map() and Series.apply() methods, we need to pass the function name into the df.applymap() method without parentheses."
   ]
  },
  {
   "cell_type": "code",
   "execution_count": 10,
   "metadata": {},
   "outputs": [
    {
     "name": "stdout",
     "output_type": "stream",
     "text": [
      "  Economy Family Health Freedom Trust Generosity\n",
      "0    High   High    Low     Low   Low        Low\n",
      "1    High   High    Low     Low   Low        Low\n",
      "2    High   High    Low     Low   Low        Low\n",
      "3    High   High    Low     Low   Low        Low\n",
      "4    High   High    Low     Low   Low        Low\n"
     ]
    }
   ],
   "source": [
    "def label(element):\n",
    "    if element > 1:\n",
    "        return 'High'\n",
    "    else:\n",
    "        return 'Low'\n",
    "\n",
    "factors = ['Economy', 'Family', 'Health', 'Freedom', 'Trust', 'Generosity']\n",
    "factors_impact = happiness2015[factors].applymap(label) \n",
    "print(factors_impact.head())"
   ]
  },
  {
   "cell_type": "markdown",
   "metadata": {},
   "source": [
    "### Apply functions along an axis using the apply method "
   ]
  },
  {
   "cell_type": "markdown",
   "metadata": {},
   "source": [
    "Ww can also use the apply() method on a dataframe, but the DataFrame.apply() method has different capabilities. Instead of applying functions element-wise, the df.apply() method applies functions along an axis, either column-wise or row-wise. When we create a function to use with df.apply(), we set it up to accept a series, most commonly a column.\n",
    "<br>\n",
    "<br>\n",
    "Let's use the df.apply() method to calculate the number of 'High' and 'Low' values in each column of the result from the last exercise, factors_impact. In order to do so, we'll apply the pd.value_counts function to all of the columns in the dataframe:"
   ]
  },
  {
   "cell_type": "code",
   "execution_count": 11,
   "metadata": {},
   "outputs": [
    {
     "data": {
      "text/html": [
       "<div>\n",
       "<style scoped>\n",
       "    .dataframe tbody tr th:only-of-type {\n",
       "        vertical-align: middle;\n",
       "    }\n",
       "\n",
       "    .dataframe tbody tr th {\n",
       "        vertical-align: top;\n",
       "    }\n",
       "\n",
       "    .dataframe thead th {\n",
       "        text-align: right;\n",
       "    }\n",
       "</style>\n",
       "<table border=\"1\" class=\"dataframe\">\n",
       "  <thead>\n",
       "    <tr style=\"text-align: right;\">\n",
       "      <th></th>\n",
       "      <th>Economy</th>\n",
       "      <th>Family</th>\n",
       "      <th>Health</th>\n",
       "      <th>Freedom</th>\n",
       "      <th>Trust</th>\n",
       "      <th>Generosity</th>\n",
       "    </tr>\n",
       "  </thead>\n",
       "  <tbody>\n",
       "    <tr>\n",
       "      <td>High</td>\n",
       "      <td>66</td>\n",
       "      <td>89</td>\n",
       "      <td>2</td>\n",
       "      <td>NaN</td>\n",
       "      <td>NaN</td>\n",
       "      <td>NaN</td>\n",
       "    </tr>\n",
       "    <tr>\n",
       "      <td>Low</td>\n",
       "      <td>92</td>\n",
       "      <td>69</td>\n",
       "      <td>156</td>\n",
       "      <td>158.0</td>\n",
       "      <td>158.0</td>\n",
       "      <td>158.0</td>\n",
       "    </tr>\n",
       "  </tbody>\n",
       "</table>\n",
       "</div>"
      ],
      "text/plain": [
       "      Economy  Family  Health  Freedom  Trust  Generosity\n",
       "High       66      89       2      NaN    NaN         NaN\n",
       "Low        92      69     156    158.0  158.0       158.0"
      ]
     },
     "execution_count": 11,
     "metadata": {},
     "output_type": "execute_result"
    }
   ],
   "source": [
    "factors_impact.apply(pd.value_counts)"
   ]
  },
  {
   "cell_type": "markdown",
   "metadata": {},
   "source": [
    "Now, we can easily see that the Family and Economy columns contain the most 'High' values!\n",
    "<br>\n",
    "<br>\n",
    "When we applied the pd.value_counts function to factors_impact, it calculated the value counts for the first column, Economy, then the second column, Family, so on and so forth\n",
    "<br>\n",
    "<br>\n",
    "Notice that we used the df.apply() method to transform multiple columns. This is only possible because the pd.value_counts function operates on a series. If we tried to use the df.apply() method to apply a function that works element-wise to multiple columns, we'd get an error"
   ]
  },
  {
   "cell_type": "code",
   "execution_count": 12,
   "metadata": {},
   "outputs": [
    {
     "name": "stdout",
     "output_type": "stream",
     "text": [
      "       Economy    Family    Health  Freedom  Trust  Generosity\n",
      "High  0.417722  0.563291  0.012658      NaN    NaN         NaN\n",
      "Low   0.582278  0.436709  0.987342      1.0    1.0         1.0\n"
     ]
    }
   ],
   "source": [
    "def v_counts(col):\n",
    "    num = col.value_counts()\n",
    "    den = col.size\n",
    "    \n",
    "    return num/den\n",
    "\n",
    "v_counts_pct = factors_impact.apply(v_counts)\n",
    "print(v_counts_pct.head())"
   ]
  },
  {
   "cell_type": "markdown",
   "metadata": {},
   "source": [
    "In general, we should only use the apply() method when a vectorized function does not exist. Recall that pandas uses vectorization, the process of applying operations to whole series at once, to optimize performance. When we use the apply() method, we're actually looping through rows, so a vectorized method can perform an equivalent task faster than the apply() method.\n",
    "<br>\n",
    "<br>\n",
    "Next, we'll compare two different ways of performing an analysis task. First, we'll use the df.apply() method to transform the data. Then, we'll look at an alternate way to perform the same task with vectorized methods.\n",
    "<br>\n",
    "<br>The factor columns is that the sum of the six factors and the Dystopia Residual column equals the happiness score\n",
    "<br>Let's use the df.apply() method to convert each of the values in the six factor columns and the Dystopia Residual column to percentages."
   ]
  },
  {
   "cell_type": "code",
   "execution_count": 13,
   "metadata": {},
   "outputs": [
    {
     "name": "stdout",
     "output_type": "stream",
     "text": [
      "     Economy     Family     Health   Freedom     Trust  Generosity  \\\n",
      "0  18.406617  17.787136  12.408462  8.772506  5.532885    3.911691   \n",
      "1  17.224177  18.545563  12.535908  8.315963  1.870784    5.770401   \n",
      "2  17.609672  18.075993  11.620035  8.627342  6.424472    4.535539   \n",
      "3  19.396437  17.694097  11.768280  8.903616  4.852832    4.613002   \n",
      "4  17.857681  17.808132  12.193753  8.522553  4.437458    6.168170   \n",
      "\n",
      "   Dystopia Residual  \n",
      "0          33.180177  \n",
      "1          35.736146  \n",
      "2          33.108011  \n",
      "3          32.774661  \n",
      "4          33.011445  \n"
     ]
    }
   ],
   "source": [
    "factors = ['Economy', 'Family', 'Health', 'Freedom', 'Trust', 'Generosity', 'Dystopia Residual']\n",
    "\n",
    "def percentages(col):\n",
    "    div = col/happiness2015['Happiness Score']\n",
    "    return div * 100\n",
    "\n",
    "factor_percentages = happiness2015[factors].apply(percentages)\n",
    "print(factor_percentages.head())"
   ]
  },
  {
   "cell_type": "markdown",
   "metadata": {},
   "source": [
    "## Reshaping Data with melt function "
   ]
  },
  {
   "cell_type": "markdown",
   "metadata": {},
   "source": [
    "It would be easier to convert these numbers into percentages, plot the results, and perform other data analysis tasks if we first reshaped the dataframe so that one column holds the values for all six factors and the Dystopia Residual column. We can accomplish this with the pd.melt() function.\n",
    "<br>\n",
    "<br>\n",
    "**The pd.melt() aims to reshape the data and unpivots a DataFrame from wide format to long format.**\n",
    "<br>melt() function is useful to massage a DataFrame into a format where one or more columns are identifier variables, while all other columns, considered measured variables, are unpivoted to the row axis, leaving just two non-identifier columns, variable and value.\n",
    "<br>\n",
    "<br>\n",
    "Example is as follow:"
   ]
  },
  {
   "cell_type": "code",
   "execution_count": 14,
   "metadata": {},
   "outputs": [
    {
     "name": "stdout",
     "output_type": "stream",
     "text": [
      "       Country          Region  Happiness Rank  Happiness Score  \\\n",
      "0  Switzerland  Western Europe               1            7.587   \n",
      "1      Iceland  Western Europe               2            7.561   \n",
      "\n",
      "   Standard Error  Economy   Family   Health  Freedom    Trust  Generosity  \\\n",
      "0         0.03411  1.39651  1.34951  0.94143  0.66557  0.41978     0.29678   \n",
      "1         0.04884  1.30232  1.40223  0.94784  0.62877  0.14145     0.43630   \n",
      "\n",
      "   Dystopia Residual  Year  \n",
      "0            2.51738  2015  \n",
      "1            2.70201  2015  \n"
     ]
    }
   ],
   "source": [
    "happy_two = happiness2015[(happiness2015['Country'] == 'Switzerland')|(happiness2015['Country'] == 'Iceland')]\n",
    "print(happy_two)"
   ]
  },
  {
   "cell_type": "markdown",
   "metadata": {},
   "source": [
    "Below, we use the melt function to reshape happy_two so that the values for Economy, Family, and Health reside in the same column"
   ]
  },
  {
   "cell_type": "code",
   "execution_count": 15,
   "metadata": {},
   "outputs": [
    {
     "data": {
      "text/html": [
       "<div>\n",
       "<style scoped>\n",
       "    .dataframe tbody tr th:only-of-type {\n",
       "        vertical-align: middle;\n",
       "    }\n",
       "\n",
       "    .dataframe tbody tr th {\n",
       "        vertical-align: top;\n",
       "    }\n",
       "\n",
       "    .dataframe thead th {\n",
       "        text-align: right;\n",
       "    }\n",
       "</style>\n",
       "<table border=\"1\" class=\"dataframe\">\n",
       "  <thead>\n",
       "    <tr style=\"text-align: right;\">\n",
       "      <th></th>\n",
       "      <th>Country</th>\n",
       "      <th>variable</th>\n",
       "      <th>value</th>\n",
       "    </tr>\n",
       "  </thead>\n",
       "  <tbody>\n",
       "    <tr>\n",
       "      <td>0</td>\n",
       "      <td>Switzerland</td>\n",
       "      <td>Economy</td>\n",
       "      <td>1.39651</td>\n",
       "    </tr>\n",
       "    <tr>\n",
       "      <td>1</td>\n",
       "      <td>Iceland</td>\n",
       "      <td>Economy</td>\n",
       "      <td>1.30232</td>\n",
       "    </tr>\n",
       "    <tr>\n",
       "      <td>2</td>\n",
       "      <td>Switzerland</td>\n",
       "      <td>Family</td>\n",
       "      <td>1.34951</td>\n",
       "    </tr>\n",
       "    <tr>\n",
       "      <td>3</td>\n",
       "      <td>Iceland</td>\n",
       "      <td>Family</td>\n",
       "      <td>1.40223</td>\n",
       "    </tr>\n",
       "    <tr>\n",
       "      <td>4</td>\n",
       "      <td>Switzerland</td>\n",
       "      <td>Health</td>\n",
       "      <td>0.94143</td>\n",
       "    </tr>\n",
       "    <tr>\n",
       "      <td>5</td>\n",
       "      <td>Iceland</td>\n",
       "      <td>Health</td>\n",
       "      <td>0.94784</td>\n",
       "    </tr>\n",
       "  </tbody>\n",
       "</table>\n",
       "</div>"
      ],
      "text/plain": [
       "       Country variable    value\n",
       "0  Switzerland  Economy  1.39651\n",
       "1      Iceland  Economy  1.30232\n",
       "2  Switzerland   Family  1.34951\n",
       "3      Iceland   Family  1.40223\n",
       "4  Switzerland   Health  0.94143\n",
       "5      Iceland   Health  0.94784"
      ]
     },
     "execution_count": 15,
     "metadata": {},
     "output_type": "execute_result"
    }
   ],
   "source": [
    "pd.melt(happy_two, id_vars=['Country'], value_vars=['Economy', 'Family', 'Health'])"
   ]
  },
  {
   "cell_type": "markdown",
   "metadata": {},
   "source": [
    "That is how we apply the changes into the original dataset "
   ]
  },
  {
   "cell_type": "code",
   "execution_count": 16,
   "metadata": {},
   "outputs": [
    {
     "name": "stdout",
     "output_type": "stream",
     "text": [
      "       Country          Region  Happiness Rank  Happiness Score variable  \\\n",
      "0  Switzerland  Western Europe               1            7.587  Economy   \n",
      "1      Iceland  Western Europe               2            7.561  Economy   \n",
      "2      Denmark  Western Europe               3            7.527  Economy   \n",
      "3       Norway  Western Europe               4            7.522  Economy   \n",
      "4       Canada   North America               5            7.427  Economy   \n",
      "\n",
      "     value  Percentage  \n",
      "0  1.39651       18.41  \n",
      "1  1.30232       17.22  \n",
      "2  1.32548       17.61  \n",
      "3  1.45900       19.40  \n",
      "4  1.32629       17.86  \n"
     ]
    }
   ],
   "source": [
    "main_cols = ['Country', 'Region', 'Happiness Rank', 'Happiness Score']\n",
    "factors = ['Economy', 'Family', 'Health', 'Freedom', 'Trust', 'Generosity', 'Dystopia Residual']\n",
    "\n",
    "melt = pd.melt(happiness2015, id_vars = main_cols, value_vars=factors)\n",
    "melt['Percentage'] = round(melt['value']/melt['Happiness Score'] * 100, 2)\n",
    "print(melt.head())"
   ]
  },
  {
   "cell_type": "markdown",
   "metadata": {},
   "source": [
    "Melt function can be used before the aggregation/pivot dunction and formulate the chart.\n",
    "Example is as follows:"
   ]
  },
  {
   "cell_type": "code",
   "execution_count": 17,
   "metadata": {},
   "outputs": [
    {
     "name": "stdout",
     "output_type": "stream",
     "text": [
      "                      value\n",
      "variable                   \n",
      "Dystopia Residual  2.098977\n",
      "Economy            0.846137\n",
      "Family             0.991046\n",
      "Freedom            0.428615\n",
      "Generosity         0.237296\n"
     ]
    }
   ],
   "source": [
    "pv_melt = melt.pivot_table(index='variable', values='value')\n",
    "print(pv_melt.head())"
   ]
  },
  {
   "cell_type": "code",
   "execution_count": 19,
   "metadata": {},
   "outputs": [
    {
     "data": {
      "image/png": "[encoded data removed]",
      "text/plain": [
       "<Figure size 432x288 with 1 Axes>"
      ]
     },
     "metadata": {},
     "output_type": "display_data"
    }
   ],
   "source": [
    "pv_melt.plot(kind='pie', y='value', legend=False);"
   ]
  },
  {
   "cell_type": "code",
   "execution_count": null,
   "metadata": {},
   "outputs": [],
   "source": []
  }
 ],
 "metadata": {
  "kernelspec": {
   "display_name": "Python 3",
   "language": "python",
   "name": "python3"
  },
  "language_info": {
   "codemirror_mode": {
    "name": "ipython",
    "version": 3
   },
   "file_extension": ".py",
   "mimetype": "text/x-python",
   "name": "python",
   "nbconvert_exporter": "python",
   "pygments_lexer": "ipython3",
   "version": "3.7.4"
  }
 },
 "nbformat": 4,
 "nbformat_minor": 2
}
