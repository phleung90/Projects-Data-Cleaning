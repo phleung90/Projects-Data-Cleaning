{
 "cells": [
  {
   "cell_type": "markdown",
   "metadata": {},
   "source": [
    "## Introduction "
   ]
  },
  {
   "cell_type": "markdown",
   "metadata": {},
   "source": [
    "In this course, we'll work with the World Happiness Report, an annual report created by the UN Sustainable Development Solutions Network with the intent of guiding policy. The report assigns each country a happiness score based on the answers to a poll question that asks respondents to rank their life on a scale of 0 - 10.\n",
    "<br>\n",
    "<br>\n",
    "It also includes estimates of factors that may contribute to each country's happiness, including economic production, social support, life expectancy, freedom, absence of corruption, and generosity, to provide context for the score. Although these factors aren't actually used in the calculation of the happiness score, they can help illustrate why a country received a certain score.\n",
    "<br>\n",
    "<br> In the report, there are couple of questions: \n",
    "- How can aggregating the data give us more insight into happiness scores?\n",
    "- How did world happiness change from 2015 to 2017?\n",
    "- Which factors contribute the most to the happiness score?"
   ]
  },
  {
   "cell_type": "markdown",
   "metadata": {},
   "source": [
    "To complete the data cleaning process, there are couple of topics that we will go through: \n",
    "- Data aggregation \n",
    "- How to combine data \n",
    "- How to transform data \n",
    "- How to clean strings with pandas \n",
    "- How to handle missing and duplicate data"
   ]
  },
  {
   "cell_type": "markdown",
   "metadata": {},
   "source": [
    "## Introduction to data "
   ]
  },
  {
   "cell_type": "code",
   "execution_count": 1,
   "metadata": {},
   "outputs": [
    {
     "name": "stdout",
     "output_type": "stream",
     "text": [
      "<class 'pandas.core.frame.DataFrame'>\n",
      "RangeIndex: 158 entries, 0 to 157\n",
      "Data columns (total 12 columns):\n",
      "Country                          158 non-null object\n",
      "Region                           158 non-null object\n",
      "Happiness Rank                   158 non-null int64\n",
      "Happiness Score                  158 non-null float64\n",
      "Standard Error                   158 non-null float64\n",
      "Economy (GDP per Capita)         158 non-null float64\n",
      "Family                           158 non-null float64\n",
      "Health (Life Expectancy)         158 non-null float64\n",
      "Freedom                          158 non-null float64\n",
      "Trust (Government Corruption)    158 non-null float64\n",
      "Generosity                       158 non-null float64\n",
      "Dystopia Residual                158 non-null float64\n",
      "dtypes: float64(9), int64(1), object(2)\n",
      "memory usage: 14.9+ KB\n"
     ]
    }
   ],
   "source": [
    "import pandas as pd \n",
    "\n",
    "happiness2015 = pd.read_csv('World_Happiness_2015.csv')\n",
    "first_5 = happiness2015.head(5)\n",
    "happiness2015.info()"
   ]
  },
  {
   "cell_type": "markdown",
   "metadata": {},
   "source": [
    "## Using loops to aggregate data "
   ]
  },
  {
   "cell_type": "code",
   "execution_count": 2,
   "metadata": {},
   "outputs": [
    {
     "name": "stdout",
     "output_type": "stream",
     "text": [
      "{'Western Europe': 6.689619047619048, 'North America': 7.273, 'Australia and New Zealand': 7.285, 'Middle East and Northern Africa': 5.406899999999999, 'Latin America and Caribbean': 6.144681818181818, 'Southeastern Asia': 5.317444444444445, 'Central and Eastern Europe': 5.332931034482758, 'Eastern Asia': 5.626166666666666, 'Sub-Saharan Africa': 4.202800000000001, 'Southern Asia': 4.580857142857143}\n"
     ]
    }
   ],
   "source": [
    "mean_happiness = {}\n",
    "regions = happiness2015['Region'].unique()\n",
    "\n",
    "for rows in regions:\n",
    "    #1. Split the dataframe into groups.\n",
    "    region_group = happiness2015[happiness2015['Region'] == rows]\n",
    "    \n",
    "    #2. Apply a function to each group.\n",
    "    region_mean = region_group['Happiness Score'].mean()\n",
    "    \n",
    "    #3. Combine the results into one data structure.\n",
    "    mean_happiness[rows] = region_mean\n",
    "\n",
    "print(mean_happiness)    "
   ]
  },
  {
   "cell_type": "markdown",
   "metadata": {},
   "source": [
    "## Group by functions "
   ]
  },
  {
   "cell_type": "markdown",
   "metadata": {},
   "source": [
    "Another alrenatives to do it is to use a  has a built-in operation for this process. The groupby operation performs the \"split-apply-combine\" process on a dataframe, but condenses it into two steps:\n",
    "- Create a GroupBy object.\n",
    "- Call a function on the GroupBy object"
   ]
  },
  {
   "cell_type": "markdown",
   "metadata": {},
   "source": [
    "### Creating GroupBy Objects "
   ]
  },
  {
   "cell_type": "markdown",
   "metadata": {},
   "source": [
    "Next, let's create a Groupby object and group the dataframe by the Region column:"
   ]
  },
  {
   "cell_type": "code",
   "execution_count": 3,
   "metadata": {},
   "outputs": [
    {
     "name": "stdout",
     "output_type": "stream",
     "text": [
      "<pandas.core.groupby.generic.DataFrameGroupBy object at 0x000001BA2C85FB88>\n"
     ]
    }
   ],
   "source": [
    "test_groupby = happiness2015.groupby('Region')\n",
    "print(test_groupby)"
   ]
  },
  {
   "cell_type": "markdown",
   "metadata": {},
   "source": [
    "This is telling us that an object of type GroupBy was returned, just like we expected.\n",
    "<br>\n",
    "<br>\n",
    "Before we start aggregating data, we'll build some intuition around GroupBy objects. We can use the **GroupBy.get_group()** method to select data for a certain group."
   ]
  },
  {
   "cell_type": "code",
   "execution_count": 4,
   "metadata": {},
   "outputs": [
    {
     "name": "stdout",
     "output_type": "stream",
     "text": [
      "       Country                     Region  Happiness Rank  Happiness Score  \\\n",
      "8  New Zealand  Australia and New Zealand               9            7.286   \n",
      "9    Australia  Australia and New Zealand              10            7.284   \n",
      "\n",
      "   Standard Error  Economy (GDP per Capita)   Family  \\\n",
      "8         0.03371                   1.25018  1.31967   \n",
      "9         0.04083                   1.33358  1.30923   \n",
      "\n",
      "   Health (Life Expectancy)  Freedom  Trust (Government Corruption)  \\\n",
      "8                   0.90837  0.63938                        0.42922   \n",
      "9                   0.93156  0.65124                        0.35637   \n",
      "\n",
      "   Generosity  Dystopia Residual  \n",
      "8     0.47501            2.26425  \n",
      "9     0.43562            2.26646  \n"
     ]
    }
   ],
   "source": [
    "grouped = happiness2015.groupby('Region')\n",
    "aus_nz = grouped.get_group('Australia and New Zealand')\n",
    "print(aus_nz)"
   ]
  },
  {
   "cell_type": "markdown",
   "metadata": {},
   "source": [
    "### Common Aggregation Methods with GroupBy "
   ]
  },
  {
   "cell_type": "markdown",
   "metadata": {},
   "source": [
    "A basic example of aggregation is computing the number of rows for each of the groups. We can use the GroupBy.size() method to confirm the size of each region group"
   ]
  },
  {
   "cell_type": "code",
   "execution_count": 5,
   "metadata": {},
   "outputs": [
    {
     "data": {
      "text/plain": [
       "Region\n",
       "Australia and New Zealand           2\n",
       "Central and Eastern Europe         29\n",
       "Eastern Asia                        6\n",
       "Latin America and Caribbean        22\n",
       "Middle East and Northern Africa    20\n",
       "North America                       2\n",
       "Southeastern Asia                   9\n",
       "Southern Asia                       7\n",
       "Sub-Saharan Africa                 40\n",
       "Western Europe                     21\n",
       "dtype: int64"
      ]
     },
     "execution_count": 5,
     "metadata": {},
     "output_type": "execute_result"
    }
   ],
   "source": [
    "grouped = happiness2015.groupby('Region')\n",
    "grouped.size()"
   ]
  },
  {
   "cell_type": "markdown",
   "metadata": {},
   "source": [
    "And if we want to get the the mean of each region for each numeric column:"
   ]
  },
  {
   "cell_type": "code",
   "execution_count": 6,
   "metadata": {},
   "outputs": [
    {
     "name": "stdout",
     "output_type": "stream",
     "text": [
      "                                 Happiness Rank  Happiness Score  \\\n",
      "Region                                                             \n",
      "Australia and New Zealand              9.500000         7.285000   \n",
      "Central and Eastern Europe            79.000000         5.332931   \n",
      "Eastern Asia                          64.500000         5.626167   \n",
      "Latin America and Caribbean           46.909091         6.144682   \n",
      "Middle East and Northern Africa       77.600000         5.406900   \n",
      "North America                         10.000000         7.273000   \n",
      "Southeastern Asia                     81.222222         5.317444   \n",
      "Southern Asia                        113.142857         4.580857   \n",
      "Sub-Saharan Africa                   127.900000         4.202800   \n",
      "Western Europe                        29.523810         6.689619   \n",
      "\n",
      "                                 Standard Error  Economy (GDP per Capita)  \\\n",
      "Region                                                                      \n",
      "Australia and New Zealand              0.037270                  1.291880   \n",
      "Central and Eastern Europe             0.045208                  0.942438   \n",
      "Eastern Asia                           0.037225                  1.151780   \n",
      "Latin America and Caribbean            0.061127                  0.876815   \n",
      "Middle East and Northern Africa        0.046337                  1.066973   \n",
      "North America                          0.036960                  1.360400   \n",
      "Southeastern Asia                      0.042691                  0.789054   \n",
      "Southern Asia                          0.032161                  0.560486   \n",
      "Sub-Saharan Africa                     0.055299                  0.380473   \n",
      "Western Europe                         0.037625                  1.298596   \n",
      "\n",
      "                                   Family  Health (Life Expectancy)   Freedom  \\\n",
      "Region                                                                          \n",
      "Australia and New Zealand        1.314450                  0.919965  0.645310   \n",
      "Central and Eastern Europe       1.053042                  0.718774  0.358269   \n",
      "Eastern Asia                     1.099427                  0.877388  0.462490   \n",
      "Latin America and Caribbean      1.104720                  0.703870  0.501740   \n",
      "Middle East and Northern Africa  0.920490                  0.705616  0.361751   \n",
      "North America                    1.284860                  0.883710  0.589505   \n",
      "Southeastern Asia                0.940468                  0.677357  0.557104   \n",
      "Southern Asia                    0.645321                  0.540830  0.373337   \n",
      "Sub-Saharan Africa               0.809085                  0.282332  0.365944   \n",
      "Western Europe                   1.247302                  0.909148  0.549926   \n",
      "\n",
      "                                 Trust (Government Corruption)  Generosity  \\\n",
      "Region                                                                       \n",
      "Australia and New Zealand                             0.392795    0.455315   \n",
      "Central and Eastern Europe                            0.086674    0.152264   \n",
      "Eastern Asia                                          0.127695    0.225885   \n",
      "Latin America and Caribbean                           0.117172    0.217788   \n",
      "Middle East and Northern Africa                       0.181702    0.190375   \n",
      "North America                                         0.244235    0.429580   \n",
      "Southeastern Asia                                     0.151276    0.419261   \n",
      "Southern Asia                                         0.102536    0.341429   \n",
      "Sub-Saharan Africa                                    0.123878    0.221137   \n",
      "Western Europe                                        0.231463    0.302109   \n",
      "\n",
      "                                 Dystopia Residual  \n",
      "Region                                              \n",
      "Australia and New Zealand                 2.265355  \n",
      "Central and Eastern Europe                2.021400  \n",
      "Eastern Asia                              1.681607  \n",
      "Latin America and Caribbean               2.622577  \n",
      "Middle East and Northern Africa           1.980009  \n",
      "North America                             2.480935  \n",
      "Southeastern Asia                         1.783020  \n",
      "Southern Asia                             2.016769  \n",
      "Sub-Saharan Africa                        2.019980  \n",
      "Western Europe                            2.151185  \n"
     ]
    }
   ],
   "source": [
    "grouped = happiness2015.groupby('Region')\n",
    "means = grouped.mean()\n",
    "print(means)"
   ]
  },
  {
   "cell_type": "markdown",
   "metadata": {},
   "source": [
    "### Aggregate particular column "
   ]
  },
  {
   "cell_type": "markdown",
   "metadata": {},
   "source": [
    "In some cases, we may only wish to aggregate one particular column in the original dataframe. GroupBy objects actually support column indexing, just like dataframes. You can select specific columns for a GroupBy object the same way you would for a dataframe."
   ]
  },
  {
   "cell_type": "code",
   "execution_count": 7,
   "metadata": {},
   "outputs": [
    {
     "data": {
      "text/plain": [
       "Region\n",
       "Australia and New Zealand          7.285000\n",
       "Central and Eastern Europe         5.332931\n",
       "Eastern Asia                       5.626167\n",
       "Latin America and Caribbean        6.144682\n",
       "Middle East and Northern Africa    5.406900\n",
       "North America                      7.273000\n",
       "Southeastern Asia                  5.317444\n",
       "Southern Asia                      4.580857\n",
       "Sub-Saharan Africa                 4.202800\n",
       "Western Europe                     6.689619\n",
       "Name: Happiness Score, dtype: float64"
      ]
     },
     "execution_count": 7,
     "metadata": {},
     "output_type": "execute_result"
    }
   ],
   "source": [
    "grouped = happiness2015.groupby('Region')\n",
    "happy_grouped = grouped['Happiness Score']\n",
    "happy_mean = happy_grouped.mean()\n",
    "happy_mean"
   ]
  },
  {
   "cell_type": "markdown",
   "metadata": {},
   "source": [
    "### Aggregate multiple columns "
   ]
  },
  {
   "cell_type": "markdown",
   "metadata": {},
   "source": [
    "For example, suppose we wanted to calculate both the mean and maximum happiness score for each region. Using what we learned so far, we'd have to first calculate the mean, like we did above, and then calculate the maximum separately.\n",
    "<br>\n",
    "<br>\n",
    "The GroupBy.agg() method can perform both aggregations at once. We can use the following syntax:"
   ]
  },
  {
   "cell_type": "markdown",
   "metadata": {},
   "source": [
    "**GroupBy.agg([func_name1, func_name2, func_name3])**"
   ]
  },
  {
   "cell_type": "markdown",
   "metadata": {},
   "source": [
    "This function supports the followings: \n",
    "- Return dataframe with multiple aggregations \n",
    "- Return series which is aggregated with customized function"
   ]
  },
  {
   "cell_type": "code",
   "execution_count": 8,
   "metadata": {},
   "outputs": [
    {
     "name": "stdout",
     "output_type": "stream",
     "text": [
      "                                     mean   amax\n",
      "Region                                          \n",
      "Australia and New Zealand        7.285000  7.286\n",
      "Central and Eastern Europe       5.332931  6.505\n",
      "Eastern Asia                     5.626167  6.298\n",
      "Latin America and Caribbean      6.144682  7.226\n",
      "Middle East and Northern Africa  5.406900  7.278\n",
      "North America                    7.273000  7.427\n",
      "Southeastern Asia                5.317444  6.798\n",
      "Southern Asia                    4.580857  5.253\n",
      "Sub-Saharan Africa               4.202800  5.477\n",
      "Western Europe                   6.689619  7.587\n"
     ]
    }
   ],
   "source": [
    "import numpy as np\n",
    "grouped = happiness2015.groupby('Region')\n",
    "happy_grouped = grouped['Happiness Score']\n",
    "\n",
    "happy_mean_max = happy_grouped.agg([np.mean, np.max])\n",
    "print(happy_mean_max)"
   ]
  },
  {
   "cell_type": "markdown",
   "metadata": {},
   "source": [
    "The aggregation can be written with custom functions:\n",
    "<br>\n",
    "<br>\n",
    "Note that when we pass the functions into the agg() method as arguments, we don't use parentheses after the function names. For example, when we use np.mean, we refer to the function object itself and treat it like a variable, whereas np.mean() would be used to call the function and get the returned value."
   ]
  },
  {
   "cell_type": "code",
   "execution_count": 9,
   "metadata": {},
   "outputs": [
    {
     "name": "stdout",
     "output_type": "stream",
     "text": [
      "Region\n",
      "Australia and New Zealand          0.001000\n",
      "Central and Eastern Europe         1.172069\n",
      "Eastern Asia                       0.671833\n",
      "Latin America and Caribbean        1.081318\n",
      "Middle East and Northern Africa    1.871100\n",
      "North America                      0.154000\n",
      "Southeastern Asia                  1.480556\n",
      "Southern Asia                      0.672143\n",
      "Sub-Saharan Africa                 1.274200\n",
      "Western Europe                     0.897381\n",
      "Name: Happiness Score, dtype: float64\n"
     ]
    }
   ],
   "source": [
    "def dif(group):\n",
    "    return (group.max() - group.mean())\n",
    "\n",
    "mean_max_dif = happy_grouped.agg(dif)\n",
    "print(mean_max_dif)"
   ]
  },
  {
   "cell_type": "markdown",
   "metadata": {},
   "source": [
    "An alternative for the function above can be as follows: "
   ]
  },
  {
   "cell_type": "code",
   "execution_count": 10,
   "metadata": {},
   "outputs": [
    {
     "data": {
      "text/plain": [
       "Region\n",
       "Australia and New Zealand          0.001000\n",
       "Central and Eastern Europe         1.172069\n",
       "Eastern Asia                       0.671833\n",
       "Latin America and Caribbean        1.081318\n",
       "Middle East and Northern Africa    1.871100\n",
       "North America                      0.154000\n",
       "Southeastern Asia                  1.480556\n",
       "Southern Asia                      0.672143\n",
       "Sub-Saharan Africa                 1.274200\n",
       "Western Europe                     0.897381\n",
       "Name: Happiness Score, dtype: float64"
      ]
     },
     "execution_count": 10,
     "metadata": {},
     "output_type": "execute_result"
    }
   ],
   "source": [
    "happiness2015.groupby('Region')['Happiness Score'].agg(dif)"
   ]
  },
  {
   "cell_type": "code",
   "execution_count": 11,
   "metadata": {},
   "outputs": [
    {
     "name": "stdout",
     "output_type": "stream",
     "text": [
      "Region\n",
      "Australia and New Zealand          7.285000\n",
      "Central and Eastern Europe         5.332931\n",
      "Eastern Asia                       5.626167\n",
      "Latin America and Caribbean        6.144682\n",
      "Middle East and Northern Africa    5.406900\n",
      "North America                      7.273000\n",
      "Southeastern Asia                  5.317444\n",
      "Southern Asia                      4.580857\n",
      "Sub-Saharan Africa                 4.202800\n",
      "Western Europe                     6.689619\n",
      "Name: Happiness Score, dtype: float64\n"
     ]
    }
   ],
   "source": [
    "happiness_means = happiness2015.groupby('Region')['Happiness Score'].mean()\n",
    "happiness_means = happiness2015.groupby('Region')['Happiness Score'].mean()\n",
    "print(happiness_means)"
   ]
  },
  {
   "cell_type": "markdown",
   "metadata": {},
   "source": [
    "## Aggregation with pivot tables"
   ]
  },
  {
   "cell_type": "markdown",
   "metadata": {},
   "source": [
    "When you printed happiness_means, you should've seen that the values in the **Region column are the index** of the resulting series and the **Happiness Score column contained the values** that would be aggregated.\n",
    "<br>\n",
    "<br>\n",
    "Index and values are actually arguments used in another method used to aggregate data - the DataFrame.pivot_table() method. This df.pivot_table() method can perform the same kinds of aggregations as the df.groupby method and make the code for complex aggregations easier to read."
   ]
  },
  {
   "cell_type": "markdown",
   "metadata": {},
   "source": [
    "This concept is highly similar to pivot table in excel and **returns a dataframe**, so normal dataframe filtering and methods can be applied to the result. For example, let's use the DataFrame.plot() method to create a visualization. Note that we exclude aggfunc below because the mean is the default aggregation function of df.pivot_table()."
   ]
  },
  {
   "cell_type": "code",
   "execution_count": 12,
   "metadata": {},
   "outputs": [],
   "source": [
    "pv_happiness = happiness2015.pivot_table(values='Happiness Score', index='Region', aggfunc=np.mean, margins=True)\n",
    "pv_happiness.plot(kind = 'barh', title = 'Mean Happiness Scores by Region', xlim=(0,10), legend=False);"
   ]
  },
  {
   "cell_type": "markdown",
   "metadata": {},
   "source": [
    "### Pivot table to aggregate multiple columns "
   ]
  },
  {
   "cell_type": "code",
   "execution_count": 13,
   "metadata": {},
   "outputs": [
    {
     "data": {
      "text/html": [
       "<div>\n",
       "<style scoped>\n",
       "    .dataframe tbody tr th:only-of-type {\n",
       "        vertical-align: middle;\n",
       "    }\n",
       "\n",
       "    .dataframe tbody tr th {\n",
       "        vertical-align: top;\n",
       "    }\n",
       "\n",
       "    .dataframe thead th {\n",
       "        text-align: right;\n",
       "    }\n",
       "</style>\n",
       "<table border=\"1\" class=\"dataframe\">\n",
       "  <thead>\n",
       "    <tr style=\"text-align: right;\">\n",
       "      <th></th>\n",
       "      <th>Family</th>\n",
       "      <th>Happiness Score</th>\n",
       "    </tr>\n",
       "    <tr>\n",
       "      <th>Region</th>\n",
       "      <th></th>\n",
       "      <th></th>\n",
       "    </tr>\n",
       "  </thead>\n",
       "  <tbody>\n",
       "    <tr>\n",
       "      <td>Australia and New Zealand</td>\n",
       "      <td>1.314450</td>\n",
       "      <td>7.285000</td>\n",
       "    </tr>\n",
       "    <tr>\n",
       "      <td>Central and Eastern Europe</td>\n",
       "      <td>1.053042</td>\n",
       "      <td>5.332931</td>\n",
       "    </tr>\n",
       "    <tr>\n",
       "      <td>Eastern Asia</td>\n",
       "      <td>1.099427</td>\n",
       "      <td>5.626167</td>\n",
       "    </tr>\n",
       "    <tr>\n",
       "      <td>Latin America and Caribbean</td>\n",
       "      <td>1.104720</td>\n",
       "      <td>6.144682</td>\n",
       "    </tr>\n",
       "    <tr>\n",
       "      <td>Middle East and Northern Africa</td>\n",
       "      <td>0.920490</td>\n",
       "      <td>5.406900</td>\n",
       "    </tr>\n",
       "    <tr>\n",
       "      <td>North America</td>\n",
       "      <td>1.284860</td>\n",
       "      <td>7.273000</td>\n",
       "    </tr>\n",
       "    <tr>\n",
       "      <td>Southeastern Asia</td>\n",
       "      <td>0.940468</td>\n",
       "      <td>5.317444</td>\n",
       "    </tr>\n",
       "    <tr>\n",
       "      <td>Southern Asia</td>\n",
       "      <td>0.645321</td>\n",
       "      <td>4.580857</td>\n",
       "    </tr>\n",
       "    <tr>\n",
       "      <td>Sub-Saharan Africa</td>\n",
       "      <td>0.809085</td>\n",
       "      <td>4.202800</td>\n",
       "    </tr>\n",
       "    <tr>\n",
       "      <td>Western Europe</td>\n",
       "      <td>1.247302</td>\n",
       "      <td>6.689619</td>\n",
       "    </tr>\n",
       "  </tbody>\n",
       "</table>\n",
       "</div>"
      ],
      "text/plain": [
       "                                   Family  Happiness Score\n",
       "Region                                                    \n",
       "Australia and New Zealand        1.314450         7.285000\n",
       "Central and Eastern Europe       1.053042         5.332931\n",
       "Eastern Asia                     1.099427         5.626167\n",
       "Latin America and Caribbean      1.104720         6.144682\n",
       "Middle East and Northern Africa  0.920490         5.406900\n",
       "North America                    1.284860         7.273000\n",
       "Southeastern Asia                0.940468         5.317444\n",
       "Southern Asia                    0.645321         4.580857\n",
       "Sub-Saharan Africa               0.809085         4.202800\n",
       "Western Europe                   1.247302         6.689619"
      ]
     },
     "execution_count": 13,
     "metadata": {},
     "output_type": "execute_result"
    }
   ],
   "source": [
    "happiness2015.pivot_table(['Happiness Score', 'Family'], 'Region')"
   ]
  },
  {
   "cell_type": "markdown",
   "metadata": {},
   "source": [
    "### Pivot table to apply multiple columns "
   ]
  },
  {
   "cell_type": "code",
   "execution_count": 14,
   "metadata": {},
   "outputs": [
    {
     "data": {
      "text/html": [
       "<div>\n",
       "<style scoped>\n",
       "    .dataframe tbody tr th:only-of-type {\n",
       "        vertical-align: middle;\n",
       "    }\n",
       "\n",
       "    .dataframe tbody tr th {\n",
       "        vertical-align: top;\n",
       "    }\n",
       "\n",
       "    .dataframe thead tr th {\n",
       "        text-align: left;\n",
       "    }\n",
       "\n",
       "    .dataframe thead tr:last-of-type th {\n",
       "        text-align: right;\n",
       "    }\n",
       "</style>\n",
       "<table border=\"1\" class=\"dataframe\">\n",
       "  <thead>\n",
       "    <tr>\n",
       "      <th></th>\n",
       "      <th>mean</th>\n",
       "      <th>amin</th>\n",
       "      <th>amax</th>\n",
       "    </tr>\n",
       "    <tr>\n",
       "      <th></th>\n",
       "      <th>Happiness Score</th>\n",
       "      <th>Happiness Score</th>\n",
       "      <th>Happiness Score</th>\n",
       "    </tr>\n",
       "    <tr>\n",
       "      <th>Region</th>\n",
       "      <th></th>\n",
       "      <th></th>\n",
       "      <th></th>\n",
       "    </tr>\n",
       "  </thead>\n",
       "  <tbody>\n",
       "    <tr>\n",
       "      <td>Australia and New Zealand</td>\n",
       "      <td>7.285000</td>\n",
       "      <td>7.284</td>\n",
       "      <td>7.286</td>\n",
       "    </tr>\n",
       "    <tr>\n",
       "      <td>Central and Eastern Europe</td>\n",
       "      <td>5.332931</td>\n",
       "      <td>4.218</td>\n",
       "      <td>6.505</td>\n",
       "    </tr>\n",
       "    <tr>\n",
       "      <td>Eastern Asia</td>\n",
       "      <td>5.626167</td>\n",
       "      <td>4.874</td>\n",
       "      <td>6.298</td>\n",
       "    </tr>\n",
       "    <tr>\n",
       "      <td>Latin America and Caribbean</td>\n",
       "      <td>6.144682</td>\n",
       "      <td>4.518</td>\n",
       "      <td>7.226</td>\n",
       "    </tr>\n",
       "    <tr>\n",
       "      <td>Middle East and Northern Africa</td>\n",
       "      <td>5.406900</td>\n",
       "      <td>3.006</td>\n",
       "      <td>7.278</td>\n",
       "    </tr>\n",
       "    <tr>\n",
       "      <td>North America</td>\n",
       "      <td>7.273000</td>\n",
       "      <td>7.119</td>\n",
       "      <td>7.427</td>\n",
       "    </tr>\n",
       "    <tr>\n",
       "      <td>Southeastern Asia</td>\n",
       "      <td>5.317444</td>\n",
       "      <td>3.819</td>\n",
       "      <td>6.798</td>\n",
       "    </tr>\n",
       "    <tr>\n",
       "      <td>Southern Asia</td>\n",
       "      <td>4.580857</td>\n",
       "      <td>3.575</td>\n",
       "      <td>5.253</td>\n",
       "    </tr>\n",
       "    <tr>\n",
       "      <td>Sub-Saharan Africa</td>\n",
       "      <td>4.202800</td>\n",
       "      <td>2.839</td>\n",
       "      <td>5.477</td>\n",
       "    </tr>\n",
       "    <tr>\n",
       "      <td>Western Europe</td>\n",
       "      <td>6.689619</td>\n",
       "      <td>4.857</td>\n",
       "      <td>7.587</td>\n",
       "    </tr>\n",
       "    <tr>\n",
       "      <td>All</td>\n",
       "      <td>5.375734</td>\n",
       "      <td>2.839</td>\n",
       "      <td>7.587</td>\n",
       "    </tr>\n",
       "  </tbody>\n",
       "</table>\n",
       "</div>"
      ],
      "text/plain": [
       "                                           mean            amin  \\\n",
       "                                Happiness Score Happiness Score   \n",
       "Region                                                            \n",
       "Australia and New Zealand              7.285000           7.284   \n",
       "Central and Eastern Europe             5.332931           4.218   \n",
       "Eastern Asia                           5.626167           4.874   \n",
       "Latin America and Caribbean            6.144682           4.518   \n",
       "Middle East and Northern Africa        5.406900           3.006   \n",
       "North America                          7.273000           7.119   \n",
       "Southeastern Asia                      5.317444           3.819   \n",
       "Southern Asia                          4.580857           3.575   \n",
       "Sub-Saharan Africa                     4.202800           2.839   \n",
       "Western Europe                         6.689619           4.857   \n",
       "All                                    5.375734           2.839   \n",
       "\n",
       "                                           amax  \n",
       "                                Happiness Score  \n",
       "Region                                           \n",
       "Australia and New Zealand                 7.286  \n",
       "Central and Eastern Europe                6.505  \n",
       "Eastern Asia                              6.298  \n",
       "Latin America and Caribbean               7.226  \n",
       "Middle East and Northern Africa           7.278  \n",
       "North America                             7.427  \n",
       "Southeastern Asia                         6.798  \n",
       "Southern Asia                             5.253  \n",
       "Sub-Saharan Africa                        5.477  \n",
       "Western Europe                            7.587  \n",
       "All                                       7.587  "
      ]
     },
     "execution_count": 14,
     "metadata": {},
     "output_type": "execute_result"
    }
   ],
   "source": [
    "happiness2015.pivot_table('Happiness Score', 'Region', aggfunc=[np.mean, np.min , np.max], margins=True)"
   ]
  },
  {
   "cell_type": "markdown",
   "metadata": {},
   "source": [
    "### Comparison between groupby and pivot table "
   ]
  },
  {
   "cell_type": "code",
   "execution_count": 15,
   "metadata": {},
   "outputs": [],
   "source": [
    "grouped = happiness2015.groupby('Region')[['Happiness Score','Family']]\n",
    "happy_family_stats = grouped.agg([np.min, np.max, np.mean])\n",
    "pv_happy_family_stats = happiness2015.pivot_table(['Happiness Score', 'Family'], 'Region', aggfunc=[np.min, np.max, np.mean], margins=True)"
   ]
  },
  {
   "cell_type": "code",
   "execution_count": 16,
   "metadata": {},
   "outputs": [
    {
     "data": {
      "text/html": [
       "<div>\n",
       "<style scoped>\n",
       "    .dataframe tbody tr th:only-of-type {\n",
       "        vertical-align: middle;\n",
       "    }\n",
       "\n",
       "    .dataframe tbody tr th {\n",
       "        vertical-align: top;\n",
       "    }\n",
       "\n",
       "    .dataframe thead tr th {\n",
       "        text-align: left;\n",
       "    }\n",
       "\n",
       "    .dataframe thead tr:last-of-type th {\n",
       "        text-align: right;\n",
       "    }\n",
       "</style>\n",
       "<table border=\"1\" class=\"dataframe\">\n",
       "  <thead>\n",
       "    <tr>\n",
       "      <th></th>\n",
       "      <th colspan=\"3\" halign=\"left\">Happiness Score</th>\n",
       "      <th colspan=\"3\" halign=\"left\">Family</th>\n",
       "    </tr>\n",
       "    <tr>\n",
       "      <th></th>\n",
       "      <th>amin</th>\n",
       "      <th>amax</th>\n",
       "      <th>mean</th>\n",
       "      <th>amin</th>\n",
       "      <th>amax</th>\n",
       "      <th>mean</th>\n",
       "    </tr>\n",
       "    <tr>\n",
       "      <th>Region</th>\n",
       "      <th></th>\n",
       "      <th></th>\n",
       "      <th></th>\n",
       "      <th></th>\n",
       "      <th></th>\n",
       "      <th></th>\n",
       "    </tr>\n",
       "  </thead>\n",
       "  <tbody>\n",
       "    <tr>\n",
       "      <td>Australia and New Zealand</td>\n",
       "      <td>7.284</td>\n",
       "      <td>7.286</td>\n",
       "      <td>7.285000</td>\n",
       "      <td>1.30923</td>\n",
       "      <td>1.31967</td>\n",
       "      <td>1.314450</td>\n",
       "    </tr>\n",
       "    <tr>\n",
       "      <td>Central and Eastern Europe</td>\n",
       "      <td>4.218</td>\n",
       "      <td>6.505</td>\n",
       "      <td>5.332931</td>\n",
       "      <td>0.38562</td>\n",
       "      <td>1.34043</td>\n",
       "      <td>1.053042</td>\n",
       "    </tr>\n",
       "    <tr>\n",
       "      <td>Eastern Asia</td>\n",
       "      <td>4.874</td>\n",
       "      <td>6.298</td>\n",
       "      <td>5.626167</td>\n",
       "      <td>0.94675</td>\n",
       "      <td>1.30060</td>\n",
       "      <td>1.099427</td>\n",
       "    </tr>\n",
       "    <tr>\n",
       "      <td>Latin America and Caribbean</td>\n",
       "      <td>4.518</td>\n",
       "      <td>7.226</td>\n",
       "      <td>6.144682</td>\n",
       "      <td>0.74302</td>\n",
       "      <td>1.30477</td>\n",
       "      <td>1.104720</td>\n",
       "    </tr>\n",
       "    <tr>\n",
       "      <td>Middle East and Northern Africa</td>\n",
       "      <td>3.006</td>\n",
       "      <td>7.278</td>\n",
       "      <td>5.406900</td>\n",
       "      <td>0.47489</td>\n",
       "      <td>1.22393</td>\n",
       "      <td>0.920490</td>\n",
       "    </tr>\n",
       "    <tr>\n",
       "      <td>North America</td>\n",
       "      <td>7.119</td>\n",
       "      <td>7.427</td>\n",
       "      <td>7.273000</td>\n",
       "      <td>1.24711</td>\n",
       "      <td>1.32261</td>\n",
       "      <td>1.284860</td>\n",
       "    </tr>\n",
       "    <tr>\n",
       "      <td>Southeastern Asia</td>\n",
       "      <td>3.819</td>\n",
       "      <td>6.798</td>\n",
       "      <td>5.317444</td>\n",
       "      <td>0.62736</td>\n",
       "      <td>1.26504</td>\n",
       "      <td>0.940468</td>\n",
       "    </tr>\n",
       "    <tr>\n",
       "      <td>Southern Asia</td>\n",
       "      <td>3.575</td>\n",
       "      <td>5.253</td>\n",
       "      <td>4.580857</td>\n",
       "      <td>0.30285</td>\n",
       "      <td>1.10395</td>\n",
       "      <td>0.645321</td>\n",
       "    </tr>\n",
       "    <tr>\n",
       "      <td>Sub-Saharan Africa</td>\n",
       "      <td>2.839</td>\n",
       "      <td>5.477</td>\n",
       "      <td>4.202800</td>\n",
       "      <td>0.00000</td>\n",
       "      <td>1.18468</td>\n",
       "      <td>0.809085</td>\n",
       "    </tr>\n",
       "    <tr>\n",
       "      <td>Western Europe</td>\n",
       "      <td>4.857</td>\n",
       "      <td>7.587</td>\n",
       "      <td>6.689619</td>\n",
       "      <td>0.89318</td>\n",
       "      <td>1.40223</td>\n",
       "      <td>1.247302</td>\n",
       "    </tr>\n",
       "  </tbody>\n",
       "</table>\n",
       "</div>"
      ],
      "text/plain": [
       "                                Happiness Score                    Family  \\\n",
       "                                           amin   amax      mean     amin   \n",
       "Region                                                                      \n",
       "Australia and New Zealand                 7.284  7.286  7.285000  1.30923   \n",
       "Central and Eastern Europe                4.218  6.505  5.332931  0.38562   \n",
       "Eastern Asia                              4.874  6.298  5.626167  0.94675   \n",
       "Latin America and Caribbean               4.518  7.226  6.144682  0.74302   \n",
       "Middle East and Northern Africa           3.006  7.278  5.406900  0.47489   \n",
       "North America                             7.119  7.427  7.273000  1.24711   \n",
       "Southeastern Asia                         3.819  6.798  5.317444  0.62736   \n",
       "Southern Asia                             3.575  5.253  4.580857  0.30285   \n",
       "Sub-Saharan Africa                        2.839  5.477  4.202800  0.00000   \n",
       "Western Europe                            4.857  7.587  6.689619  0.89318   \n",
       "\n",
       "                                                    \n",
       "                                    amax      mean  \n",
       "Region                                              \n",
       "Australia and New Zealand        1.31967  1.314450  \n",
       "Central and Eastern Europe       1.34043  1.053042  \n",
       "Eastern Asia                     1.30060  1.099427  \n",
       "Latin America and Caribbean      1.30477  1.104720  \n",
       "Middle East and Northern Africa  1.22393  0.920490  \n",
       "North America                    1.32261  1.284860  \n",
       "Southeastern Asia                1.26504  0.940468  \n",
       "Southern Asia                    1.10395  0.645321  \n",
       "Sub-Saharan Africa               1.18468  0.809085  \n",
       "Western Europe                   1.40223  1.247302  "
      ]
     },
     "execution_count": 16,
     "metadata": {},
     "output_type": "execute_result"
    }
   ],
   "source": [
    "happy_family_stats"
   ]
  },
  {
   "cell_type": "code",
   "execution_count": 17,
   "metadata": {},
   "outputs": [
    {
     "data": {
      "text/html": [
       "<div>\n",
       "<style scoped>\n",
       "    .dataframe tbody tr th:only-of-type {\n",
       "        vertical-align: middle;\n",
       "    }\n",
       "\n",
       "    .dataframe tbody tr th {\n",
       "        vertical-align: top;\n",
       "    }\n",
       "\n",
       "    .dataframe thead tr th {\n",
       "        text-align: left;\n",
       "    }\n",
       "\n",
       "    .dataframe thead tr:last-of-type th {\n",
       "        text-align: right;\n",
       "    }\n",
       "</style>\n",
       "<table border=\"1\" class=\"dataframe\">\n",
       "  <thead>\n",
       "    <tr>\n",
       "      <th></th>\n",
       "      <th colspan=\"2\" halign=\"left\">amin</th>\n",
       "      <th colspan=\"2\" halign=\"left\">amax</th>\n",
       "      <th colspan=\"2\" halign=\"left\">mean</th>\n",
       "    </tr>\n",
       "    <tr>\n",
       "      <th></th>\n",
       "      <th>Family</th>\n",
       "      <th>Happiness Score</th>\n",
       "      <th>Family</th>\n",
       "      <th>Happiness Score</th>\n",
       "      <th>Family</th>\n",
       "      <th>Happiness Score</th>\n",
       "    </tr>\n",
       "    <tr>\n",
       "      <th>Region</th>\n",
       "      <th></th>\n",
       "      <th></th>\n",
       "      <th></th>\n",
       "      <th></th>\n",
       "      <th></th>\n",
       "      <th></th>\n",
       "    </tr>\n",
       "  </thead>\n",
       "  <tbody>\n",
       "    <tr>\n",
       "      <td>Australia and New Zealand</td>\n",
       "      <td>1.30923</td>\n",
       "      <td>7.284</td>\n",
       "      <td>1.31967</td>\n",
       "      <td>7.286</td>\n",
       "      <td>1.314450</td>\n",
       "      <td>7.285000</td>\n",
       "    </tr>\n",
       "    <tr>\n",
       "      <td>Central and Eastern Europe</td>\n",
       "      <td>0.38562</td>\n",
       "      <td>4.218</td>\n",
       "      <td>1.34043</td>\n",
       "      <td>6.505</td>\n",
       "      <td>1.053042</td>\n",
       "      <td>5.332931</td>\n",
       "    </tr>\n",
       "    <tr>\n",
       "      <td>Eastern Asia</td>\n",
       "      <td>0.94675</td>\n",
       "      <td>4.874</td>\n",
       "      <td>1.30060</td>\n",
       "      <td>6.298</td>\n",
       "      <td>1.099427</td>\n",
       "      <td>5.626167</td>\n",
       "    </tr>\n",
       "    <tr>\n",
       "      <td>Latin America and Caribbean</td>\n",
       "      <td>0.74302</td>\n",
       "      <td>4.518</td>\n",
       "      <td>1.30477</td>\n",
       "      <td>7.226</td>\n",
       "      <td>1.104720</td>\n",
       "      <td>6.144682</td>\n",
       "    </tr>\n",
       "    <tr>\n",
       "      <td>Middle East and Northern Africa</td>\n",
       "      <td>0.47489</td>\n",
       "      <td>3.006</td>\n",
       "      <td>1.22393</td>\n",
       "      <td>7.278</td>\n",
       "      <td>0.920490</td>\n",
       "      <td>5.406900</td>\n",
       "    </tr>\n",
       "    <tr>\n",
       "      <td>North America</td>\n",
       "      <td>1.24711</td>\n",
       "      <td>7.119</td>\n",
       "      <td>1.32261</td>\n",
       "      <td>7.427</td>\n",
       "      <td>1.284860</td>\n",
       "      <td>7.273000</td>\n",
       "    </tr>\n",
       "    <tr>\n",
       "      <td>Southeastern Asia</td>\n",
       "      <td>0.62736</td>\n",
       "      <td>3.819</td>\n",
       "      <td>1.26504</td>\n",
       "      <td>6.798</td>\n",
       "      <td>0.940468</td>\n",
       "      <td>5.317444</td>\n",
       "    </tr>\n",
       "    <tr>\n",
       "      <td>Southern Asia</td>\n",
       "      <td>0.30285</td>\n",
       "      <td>3.575</td>\n",
       "      <td>1.10395</td>\n",
       "      <td>5.253</td>\n",
       "      <td>0.645321</td>\n",
       "      <td>4.580857</td>\n",
       "    </tr>\n",
       "    <tr>\n",
       "      <td>Sub-Saharan Africa</td>\n",
       "      <td>0.00000</td>\n",
       "      <td>2.839</td>\n",
       "      <td>1.18468</td>\n",
       "      <td>5.477</td>\n",
       "      <td>0.809085</td>\n",
       "      <td>4.202800</td>\n",
       "    </tr>\n",
       "    <tr>\n",
       "      <td>Western Europe</td>\n",
       "      <td>0.89318</td>\n",
       "      <td>4.857</td>\n",
       "      <td>1.40223</td>\n",
       "      <td>7.587</td>\n",
       "      <td>1.247302</td>\n",
       "      <td>6.689619</td>\n",
       "    </tr>\n",
       "    <tr>\n",
       "      <td>All</td>\n",
       "      <td>0.00000</td>\n",
       "      <td>2.839</td>\n",
       "      <td>1.40223</td>\n",
       "      <td>7.587</td>\n",
       "      <td>0.991046</td>\n",
       "      <td>5.375734</td>\n",
       "    </tr>\n",
       "  </tbody>\n",
       "</table>\n",
       "</div>"
      ],
      "text/plain": [
       "                                    amin                     amax  \\\n",
       "                                  Family Happiness Score   Family   \n",
       "Region                                                              \n",
       "Australia and New Zealand        1.30923           7.284  1.31967   \n",
       "Central and Eastern Europe       0.38562           4.218  1.34043   \n",
       "Eastern Asia                     0.94675           4.874  1.30060   \n",
       "Latin America and Caribbean      0.74302           4.518  1.30477   \n",
       "Middle East and Northern Africa  0.47489           3.006  1.22393   \n",
       "North America                    1.24711           7.119  1.32261   \n",
       "Southeastern Asia                0.62736           3.819  1.26504   \n",
       "Southern Asia                    0.30285           3.575  1.10395   \n",
       "Sub-Saharan Africa               0.00000           2.839  1.18468   \n",
       "Western Europe                   0.89318           4.857  1.40223   \n",
       "All                              0.00000           2.839  1.40223   \n",
       "\n",
       "                                                     mean                  \n",
       "                                Happiness Score    Family Happiness Score  \n",
       "Region                                                                     \n",
       "Australia and New Zealand                 7.286  1.314450        7.285000  \n",
       "Central and Eastern Europe                6.505  1.053042        5.332931  \n",
       "Eastern Asia                              6.298  1.099427        5.626167  \n",
       "Latin America and Caribbean               7.226  1.104720        6.144682  \n",
       "Middle East and Northern Africa           7.278  0.920490        5.406900  \n",
       "North America                             7.427  1.284860        7.273000  \n",
       "Southeastern Asia                         6.798  0.940468        5.317444  \n",
       "Southern Asia                             5.253  0.645321        4.580857  \n",
       "Sub-Saharan Africa                        5.477  0.809085        4.202800  \n",
       "Western Europe                            7.587  1.247302        6.689619  \n",
       "All                                       7.587  0.991046        5.375734  "
      ]
     },
     "execution_count": 17,
     "metadata": {},
     "output_type": "execute_result"
    }
   ],
   "source": [
    "pv_happy_family_stats"
   ]
  },
  {
   "cell_type": "markdown",
   "metadata": {},
   "source": [
    "We can rename the column in the pivot table as follows:"
   ]
  },
  {
   "cell_type": "code",
   "execution_count": 18,
   "metadata": {},
   "outputs": [
    {
     "data": {
      "text/html": [
       "<div>\n",
       "<style scoped>\n",
       "    .dataframe tbody tr th:only-of-type {\n",
       "        vertical-align: middle;\n",
       "    }\n",
       "\n",
       "    .dataframe tbody tr th {\n",
       "        vertical-align: top;\n",
       "    }\n",
       "\n",
       "    .dataframe thead th {\n",
       "        text-align: right;\n",
       "    }\n",
       "</style>\n",
       "<table border=\"1\" class=\"dataframe\">\n",
       "  <thead>\n",
       "    <tr style=\"text-align: right;\">\n",
       "      <th></th>\n",
       "      <th>amin_Family</th>\n",
       "      <th>amin_Happiness Score</th>\n",
       "      <th>amax_Family</th>\n",
       "      <th>amax_Happiness Score</th>\n",
       "      <th>mean_Family</th>\n",
       "      <th>mean_Happiness Score</th>\n",
       "    </tr>\n",
       "    <tr>\n",
       "      <th>Region</th>\n",
       "      <th></th>\n",
       "      <th></th>\n",
       "      <th></th>\n",
       "      <th></th>\n",
       "      <th></th>\n",
       "      <th></th>\n",
       "    </tr>\n",
       "  </thead>\n",
       "  <tbody>\n",
       "    <tr>\n",
       "      <td>Australia and New Zealand</td>\n",
       "      <td>1.30923</td>\n",
       "      <td>7.284</td>\n",
       "      <td>1.31967</td>\n",
       "      <td>7.286</td>\n",
       "      <td>1.314450</td>\n",
       "      <td>7.285000</td>\n",
       "    </tr>\n",
       "    <tr>\n",
       "      <td>Central and Eastern Europe</td>\n",
       "      <td>0.38562</td>\n",
       "      <td>4.218</td>\n",
       "      <td>1.34043</td>\n",
       "      <td>6.505</td>\n",
       "      <td>1.053042</td>\n",
       "      <td>5.332931</td>\n",
       "    </tr>\n",
       "    <tr>\n",
       "      <td>Eastern Asia</td>\n",
       "      <td>0.94675</td>\n",
       "      <td>4.874</td>\n",
       "      <td>1.30060</td>\n",
       "      <td>6.298</td>\n",
       "      <td>1.099427</td>\n",
       "      <td>5.626167</td>\n",
       "    </tr>\n",
       "    <tr>\n",
       "      <td>Latin America and Caribbean</td>\n",
       "      <td>0.74302</td>\n",
       "      <td>4.518</td>\n",
       "      <td>1.30477</td>\n",
       "      <td>7.226</td>\n",
       "      <td>1.104720</td>\n",
       "      <td>6.144682</td>\n",
       "    </tr>\n",
       "    <tr>\n",
       "      <td>Middle East and Northern Africa</td>\n",
       "      <td>0.47489</td>\n",
       "      <td>3.006</td>\n",
       "      <td>1.22393</td>\n",
       "      <td>7.278</td>\n",
       "      <td>0.920490</td>\n",
       "      <td>5.406900</td>\n",
       "    </tr>\n",
       "    <tr>\n",
       "      <td>North America</td>\n",
       "      <td>1.24711</td>\n",
       "      <td>7.119</td>\n",
       "      <td>1.32261</td>\n",
       "      <td>7.427</td>\n",
       "      <td>1.284860</td>\n",
       "      <td>7.273000</td>\n",
       "    </tr>\n",
       "    <tr>\n",
       "      <td>Southeastern Asia</td>\n",
       "      <td>0.62736</td>\n",
       "      <td>3.819</td>\n",
       "      <td>1.26504</td>\n",
       "      <td>6.798</td>\n",
       "      <td>0.940468</td>\n",
       "      <td>5.317444</td>\n",
       "    </tr>\n",
       "    <tr>\n",
       "      <td>Southern Asia</td>\n",
       "      <td>0.30285</td>\n",
       "      <td>3.575</td>\n",
       "      <td>1.10395</td>\n",
       "      <td>5.253</td>\n",
       "      <td>0.645321</td>\n",
       "      <td>4.580857</td>\n",
       "    </tr>\n",
       "    <tr>\n",
       "      <td>Sub-Saharan Africa</td>\n",
       "      <td>0.00000</td>\n",
       "      <td>2.839</td>\n",
       "      <td>1.18468</td>\n",
       "      <td>5.477</td>\n",
       "      <td>0.809085</td>\n",
       "      <td>4.202800</td>\n",
       "    </tr>\n",
       "    <tr>\n",
       "      <td>Western Europe</td>\n",
       "      <td>0.89318</td>\n",
       "      <td>4.857</td>\n",
       "      <td>1.40223</td>\n",
       "      <td>7.587</td>\n",
       "      <td>1.247302</td>\n",
       "      <td>6.689619</td>\n",
       "    </tr>\n",
       "    <tr>\n",
       "      <td>All</td>\n",
       "      <td>0.00000</td>\n",
       "      <td>2.839</td>\n",
       "      <td>1.40223</td>\n",
       "      <td>7.587</td>\n",
       "      <td>0.991046</td>\n",
       "      <td>5.375734</td>\n",
       "    </tr>\n",
       "  </tbody>\n",
       "</table>\n",
       "</div>"
      ],
      "text/plain": [
       "                                 amin_Family  amin_Happiness Score  \\\n",
       "Region                                                               \n",
       "Australia and New Zealand            1.30923                 7.284   \n",
       "Central and Eastern Europe           0.38562                 4.218   \n",
       "Eastern Asia                         0.94675                 4.874   \n",
       "Latin America and Caribbean          0.74302                 4.518   \n",
       "Middle East and Northern Africa      0.47489                 3.006   \n",
       "North America                        1.24711                 7.119   \n",
       "Southeastern Asia                    0.62736                 3.819   \n",
       "Southern Asia                        0.30285                 3.575   \n",
       "Sub-Saharan Africa                   0.00000                 2.839   \n",
       "Western Europe                       0.89318                 4.857   \n",
       "All                                  0.00000                 2.839   \n",
       "\n",
       "                                 amax_Family  amax_Happiness Score  \\\n",
       "Region                                                               \n",
       "Australia and New Zealand            1.31967                 7.286   \n",
       "Central and Eastern Europe           1.34043                 6.505   \n",
       "Eastern Asia                         1.30060                 6.298   \n",
       "Latin America and Caribbean          1.30477                 7.226   \n",
       "Middle East and Northern Africa      1.22393                 7.278   \n",
       "North America                        1.32261                 7.427   \n",
       "Southeastern Asia                    1.26504                 6.798   \n",
       "Southern Asia                        1.10395                 5.253   \n",
       "Sub-Saharan Africa                   1.18468                 5.477   \n",
       "Western Europe                       1.40223                 7.587   \n",
       "All                                  1.40223                 7.587   \n",
       "\n",
       "                                 mean_Family  mean_Happiness Score  \n",
       "Region                                                              \n",
       "Australia and New Zealand           1.314450              7.285000  \n",
       "Central and Eastern Europe          1.053042              5.332931  \n",
       "Eastern Asia                        1.099427              5.626167  \n",
       "Latin America and Caribbean         1.104720              6.144682  \n",
       "Middle East and Northern Africa     0.920490              5.406900  \n",
       "North America                       1.284860              7.273000  \n",
       "Southeastern Asia                   0.940468              5.317444  \n",
       "Southern Asia                       0.645321              4.580857  \n",
       "Sub-Saharan Africa                  0.809085              4.202800  \n",
       "Western Europe                      1.247302              6.689619  \n",
       "All                                 0.991046              5.375734  "
      ]
     },
     "execution_count": 18,
     "metadata": {},
     "output_type": "execute_result"
    }
   ],
   "source": [
    "pv_happy_family_stats.columns = ['_'.join(col) for col in pv_happy_family_stats.columns]\n",
    "pv_happy_family_stats"
   ]
  },
  {
   "cell_type": "code",
   "execution_count": null,
   "metadata": {},
   "outputs": [],
   "source": []
  },
  {
   "cell_type": "code",
   "execution_count": null,
   "metadata": {},
   "outputs": [],
   "source": []
  }
 ],
 "metadata": {
  "kernelspec": {
   "display_name": "Python 3",
   "language": "python",
   "name": "python3"
  },
  "language_info": {
   "codemirror_mode": {
    "name": "ipython",
    "version": 3
   },
   "file_extension": ".py",
   "mimetype": "text/x-python",
   "name": "python",
   "nbconvert_exporter": "python",
   "pygments_lexer": "ipython3",
   "version": "3.7.4"
  }
 },
 "nbformat": 4,
 "nbformat_minor": 2
}
