{
 "cells": [
  {
   "cell_type": "markdown",
   "metadata": {},
   "source": [
    "## Combining Data With Pandas "
   ]
  },
  {
   "cell_type": "markdown",
   "metadata": {},
   "source": [
    "In the last mission, we worked with just one data set, the 2015 World Happiness Report, to explore data aggregation. However, it's very common in practice to work with more than one data set at a time.\n",
    "\n",
    "To further work with, we will also introduce the dataset for 2016 and 2017"
   ]
  },
  {
   "cell_type": "code",
   "execution_count": 1,
   "metadata": {},
   "outputs": [],
   "source": [
    "import pandas as pd\n",
    "happiness2015 = pd.read_csv(\"World_Happiness_2015.csv\")\n",
    "happiness2016 = pd.read_csv(\"World_Happiness_2016.csv\")\n",
    "happiness2017 = pd.read_csv(\"World_Happiness_2017.csv\")\n",
    "\n",
    "happiness2015['Year'] = 2015\n",
    "happiness2016['Year'] = 2016\n",
    "happiness2017['Year'] = 2017"
   ]
  },
  {
   "cell_type": "markdown",
   "metadata": {},
   "source": [
    "## Combining Dataframes with Concat Function "
   ]
  },
  {
   "cell_type": "markdown",
   "metadata": {},
   "source": [
    "We can srtart by exploring the pd.concat() function. The concat() function combines dataframes one of two ways:\n",
    "- Axis=0 (Add up the rows)\n",
    "- Axis=1 (Add up the columns)"
   ]
  },
  {
   "cell_type": "markdown",
   "metadata": {},
   "source": [
    "For example, we can add up the dataset in 2015 and 2016 like this: "
   ]
  },
  {
   "cell_type": "code",
   "execution_count": 2,
   "metadata": {},
   "outputs": [
    {
     "name": "stdout",
     "output_type": "stream",
     "text": [
      "   Year      Country  Happiness Score  Standard Error\n",
      "0  2015  Switzerland            7.587         0.03411\n",
      "1  2015      Iceland            7.561         0.04884\n",
      "2  2015      Denmark            7.527         0.03328\n",
      "3  2015       Norway            7.522         0.03880\n"
     ]
    }
   ],
   "source": [
    "head_2015 = happiness2015[['Year','Country','Happiness Score', 'Standard Error']].head(4)\n",
    "print(head_2015)"
   ]
  },
  {
   "cell_type": "code",
   "execution_count": 3,
   "metadata": {},
   "outputs": [
    {
     "name": "stdout",
     "output_type": "stream",
     "text": [
      "       Country  Happiness Score  Year\n",
      "0      Denmark            7.526  2016\n",
      "1  Switzerland            7.509  2016\n",
      "2      Iceland            7.501  2016\n"
     ]
    }
   ],
   "source": [
    "head_2016 = happiness2016[['Country','Happiness Score', 'Year']].head(3)\n",
    "print(head_2016)"
   ]
  },
  {
   "cell_type": "code",
   "execution_count": 4,
   "metadata": {},
   "outputs": [
    {
     "name": "stdout",
     "output_type": "stream",
     "text": [
      "       Country  Happiness Score  Standard Error  Year\n",
      "0  Switzerland            7.587         0.03411  2015\n",
      "1      Iceland            7.561         0.04884  2015\n",
      "2      Denmark            7.527         0.03328  2015\n",
      "3       Norway            7.522         0.03880  2015\n",
      "0      Denmark            7.526             NaN  2016\n",
      "1  Switzerland            7.509             NaN  2016\n",
      "2      Iceland            7.501             NaN  2016\n"
     ]
    },
    {
     "name": "stderr",
     "output_type": "stream",
     "text": [
      "C:\\Users\\pakhl\\Anaconda3\\lib\\site-packages\\ipykernel_launcher.py:1: FutureWarning: Sorting because non-concatenation axis is not aligned. A future version\n",
      "of pandas will change to not sort by default.\n",
      "\n",
      "To accept the future behavior, pass 'sort=False'.\n",
      "\n",
      "To retain the current behavior and silence the warning, pass 'sort=True'.\n",
      "\n",
      "  \"\"\"Entry point for launching an IPython kernel.\n"
     ]
    }
   ],
   "source": [
    "concat_axis0 = pd.concat([head_2015, head_2016])\n",
    "index0 = concat_axis0.index\n",
    "question1 = len(index0)\n",
    "print(concat_axis0)"
   ]
  },
  {
   "cell_type": "code",
   "execution_count": 7,
   "metadata": {},
   "outputs": [
    {
     "name": "stdout",
     "output_type": "stream",
     "text": [
      "   Year      Country  Happiness Score  Standard Error      Country  \\\n",
      "0  2015  Switzerland            7.587         0.03411      Denmark   \n",
      "1  2015      Iceland            7.561         0.04884  Switzerland   \n",
      "2  2015      Denmark            7.527         0.03328      Iceland   \n",
      "3  2015       Norway            7.522         0.03880          NaN   \n",
      "\n",
      "   Happiness Score    Year  \n",
      "0            7.526  2016.0  \n",
      "1            7.509  2016.0  \n",
      "2            7.501  2016.0  \n",
      "3              NaN     NaN  \n"
     ]
    }
   ],
   "source": [
    "concat_axis1 = pd.concat([head_2015,head_2016], axis = 1 )\n",
    "index1 = concat_axis1.index\n",
    "question2 = len(index1)\n",
    "print(concat_axis1)"
   ]
  },
  {
   "cell_type": "markdown",
   "metadata": {},
   "source": [
    "### Combining Dataframes with different shapes with concat function "
   ]
  },
  {
   "cell_type": "markdown",
   "metadata": {},
   "source": [
    "Note that because the Standard Error column didn't exist in head_2016, NaN values were created to signify those values are missing. By default, the concat function will keep ALL of the data, no matter if missing values are created.\n",
    "<br>\n",
    "<br>\n",
    "Also, notice again the indexes of the original dataframes didn't change. If the indexes aren't meaningful, it can be better to reset them. This is especially true when we create duplicate indexes, because they could cause errors as we perform other data cleaning tasks.\n",
    "<br>\n",
    "<br>\n",
    "Luckily, the concat function has a parameter, ignore_index, that can be used to clear the existing index and reset it in the result. Let's practice using it next."
   ]
  },
  {
   "cell_type": "code",
   "execution_count": 6,
   "metadata": {},
   "outputs": [
    {
     "name": "stdout",
     "output_type": "stream",
     "text": [
      "       Country  Happiness Score  Standard Error  Year\n",
      "0  Switzerland            7.587         0.03411  2015\n",
      "1      Iceland            7.561         0.04884  2015\n",
      "2      Denmark            7.527         0.03328  2015\n",
      "3       Norway            7.522         0.03880  2015\n",
      "4      Denmark            7.526             NaN  2016\n",
      "5  Switzerland            7.509             NaN  2016\n",
      "6      Iceland            7.501             NaN  2016\n"
     ]
    },
    {
     "name": "stderr",
     "output_type": "stream",
     "text": [
      "C:\\Users\\pakhl\\Anaconda3\\lib\\site-packages\\ipykernel_launcher.py:1: FutureWarning: Sorting because non-concatenation axis is not aligned. A future version\n",
      "of pandas will change to not sort by default.\n",
      "\n",
      "To accept the future behavior, pass 'sort=False'.\n",
      "\n",
      "To retain the current behavior and silence the warning, pass 'sort=True'.\n",
      "\n",
      "  \"\"\"Entry point for launching an IPython kernel.\n"
     ]
    }
   ],
   "source": [
    "concat_update_index = pd.concat([head_2015, head_2016], ignore_index=True)\n",
    "print(concat_update_index)"
   ]
  },
  {
   "cell_type": "markdown",
   "metadata": {},
   "source": [
    "## Joining Dataframes with Merge function "
   ]
  },
  {
   "cell_type": "markdown",
   "metadata": {},
   "source": [
    "Next, we'll explore the pd.merge() function - a function that can execute high performance database-style joins. Note that unlike the concat function, the merge function only combines dataframes horizontally (axis=1) and can only combine two dataframes at a time.\n",
    "\n",
    "In simple, it's a join function in SQL"
   ]
  },
  {
   "cell_type": "code",
   "execution_count": 8,
   "metadata": {},
   "outputs": [
    {
     "name": "stdout",
     "output_type": "stream",
     "text": [
      "  Country  Happiness Rank_x  Year_x  Happiness Rank_y  Year_y\n",
      "0  Norway                 4    2015                 4    2016\n"
     ]
    }
   ],
   "source": [
    "three_2015 = happiness2015[['Country','Happiness Rank','Year']].iloc[2:5]\n",
    "three_2016 = happiness2016[['Country','Happiness Rank','Year']].iloc[2:5]\n",
    "\n",
    "merged = pd.merge(left=three_2015, right=three_2016, on='Country')\n",
    "print(merged)"
   ]
  },
  {
   "cell_type": "markdown",
   "metadata": {},
   "source": [
    "By default the join is a inner join. We can choose to have a left or right join as well:"
   ]
  },
  {
   "cell_type": "code",
   "execution_count": 9,
   "metadata": {},
   "outputs": [
    {
     "name": "stdout",
     "output_type": "stream",
     "text": [
      "   Country  Happiness Rank_x  Year_x  Happiness Rank_y  Year_y\n",
      "0  Denmark                 3    2015               NaN     NaN\n",
      "1   Norway                 4    2015               4.0  2016.0\n",
      "2   Canada                 5    2015               NaN     NaN\n"
     ]
    }
   ],
   "source": [
    "merged_left = pd.merge(left=three_2015, right=three_2016, on='Country', how='left')\n",
    "print(merged_left)"
   ]
  },
  {
   "cell_type": "markdown",
   "metadata": {},
   "source": [
    "You may have also noticed above that the merge function added a suffix of either _x or _y to columns of the same name to distinguish between them."
   ]
  },
  {
   "cell_type": "code",
   "execution_count": 11,
   "metadata": {},
   "outputs": [
    {
     "name": "stdout",
     "output_type": "stream",
     "text": [
      "   Country  Happiness Rank_2015  Year_2015  Happiness Rank_2016  Year_2016\n",
      "0  Denmark                    3       2015                  NaN        NaN\n",
      "1   Norway                    4       2015                  4.0     2016.0\n",
      "2   Canada                    5       2015                  NaN        NaN\n"
     ]
    }
   ],
   "source": [
    "merged_suffixes = pd.merge(left=three_2015, right=three_2016,  on='Country', how='left',suffixes = ('_2015', '_2016') )\n",
    "print(merged_suffixes)"
   ]
  },
  {
   "cell_type": "markdown",
   "metadata": {},
   "source": [
    "### Join on index with the merge function "
   ]
  },
  {
   "cell_type": "markdown",
   "metadata": {},
   "source": [
    "There is another way to join dataframes on specific columns - on the index \n",
    "<br>\n",
    "<br>\n",
    "When we join on index, however, our result will contain only common indexes."
   ]
  },
  {
   "cell_type": "code",
   "execution_count": 12,
   "metadata": {},
   "outputs": [
    {
     "name": "stdout",
     "output_type": "stream",
     "text": [
      "  Country_2015  Happiness Rank_2015  Year_2015 Country_2016  \\\n",
      "2      Denmark                    3       2015      Iceland   \n",
      "3       Norway                    4       2015       Norway   \n",
      "4       Canada                    5       2015      Finland   \n",
      "\n",
      "   Happiness Rank_2016  Year_2016  \n",
      "2                    3       2016  \n",
      "3                    4       2016  \n",
      "4                    5       2016  \n"
     ]
    }
   ],
   "source": [
    "four_2015 = happiness2015[['Country','Happiness Rank','Year']].iloc[2:6]\n",
    "three_2016 = happiness2016[['Country','Happiness Rank','Year']].iloc[2:5]\n",
    "merge_index = pd.merge(left = four_2015,right = three_2016, left_index = True, right_index = True, suffixes = ('_2015','_2016'))\n",
    "print(merge_index)"
   ]
  },
  {
   "cell_type": "markdown",
   "metadata": {},
   "source": [
    "## Combine data and create visualization "
   ]
  },
  {
   "cell_type": "markdown",
   "metadata": {},
   "source": [
    "And now we can answer the original question: **Did world happiness increase, decrease, or stay about the same from 2015 to 2017?**"
   ]
  },
  {
   "cell_type": "code",
   "execution_count": 14,
   "metadata": {},
   "outputs": [
    {
     "name": "stderr",
     "output_type": "stream",
     "text": [
      "C:\\Users\\pakhl\\Anaconda3\\lib\\site-packages\\ipykernel_launcher.py:5: FutureWarning: Sorting because non-concatenation axis is not aligned. A future version\n",
      "of pandas will change to not sort by default.\n",
      "\n",
      "To accept the future behavior, pass 'sort=False'.\n",
      "\n",
      "To retain the current behavior and silence the warning, pass 'sort=True'.\n",
      "\n",
      "  \"\"\"\n"
     ]
    },
    {
     "data": {
      "image/png": "[encoded data removed]",
      "text/plain": [
       "<Figure size 432x288 with 1 Axes>"
      ]
     },
     "metadata": {
      "needs_background": "light"
     },
     "output_type": "display_data"
    }
   ],
   "source": [
    "import numpy as np\n",
    "\n",
    "happiness2017.rename(columns={'Happiness.Score': 'Happiness Score'}, inplace=True)\n",
    "\n",
    "combined = pd.concat([happiness2015, happiness2016, happiness2017])\n",
    "pivot_table_combined = combined.pivot_table('Happiness Score', 'Year', aggfunc=np.mean)\n",
    "pivot_table_combined.plot(kind='barh', title = 'Mean Happiness Scores by Year', xlim=(0,10));"
   ]
  }
 ],
 "metadata": {
  "kernelspec": {
   "display_name": "Python 3",
   "language": "python",
   "name": "python3"
  },
  "language_info": {
   "codemirror_mode": {
    "name": "ipython",
    "version": 3
   },
   "file_extension": ".py",
   "mimetype": "text/x-python",
   "name": "python",
   "nbconvert_exporter": "python",
   "pygments_lexer": "ipython3",
   "version": "3.7.4"
  }
 },
 "nbformat": 4,
 "nbformat_minor": 2
}
