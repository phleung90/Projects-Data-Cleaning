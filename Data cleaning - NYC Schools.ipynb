{
 "cells": [
  {
   "cell_type": "markdown",
   "metadata": {},
   "source": [
    "## Introduction "
   ]
  },
  {
   "cell_type": "markdown",
   "metadata": {},
   "source": [
    "One of the most controversial issues in the U.S. educational system is the efficacy of standardized tests, and whether they're unfair to certain groups. Given our prior knowledge of this topic, investigating the correlations between SAT scores and demographics might be an interesting angle to take. We could correlate SAT scores with factors like race, gender, income, and more.\n",
    "<br>\n",
    "<br>\n",
    "The SAT, or Scholastic Aptitude Test, is an exam that U.S. high school students take before applying to college. Colleges take the test scores into account when deciding who to admit, so it's fairly important to perform well on it.\n",
    "<br>\n",
    "<br>\n",
    "The test consists of three sections, each of which has 800 possible points. The combined score is out of 2,400 possible points (while this number has changed a few times, the data set for our project is based on 2,400 total points). Organizations often rank high schools by their average SAT scores. The scores are also considered a measure of overall school district quality."
   ]
  },
  {
   "cell_type": "markdown",
   "metadata": {},
   "source": [
    "There are couple of things that we can learn from the data sources: \n",
    "- Only high school students take the SAT, so we'll want to focus on high schools\n",
    "- New York City is made up of five boroughs, which are essentially distinct regions\n",
    "- New York City schools fall within several different school districts, each of which can contains dozens of schools.\n",
    "- Our data sets include several different types of schools. We'll need to clean them so that we can focus on high schools only\n",
    "- Each school in New York City has a unique code called a DBN, or district borough number.\n",
    "- Aggregating data by district will allow us to use the district mapping data to plot district-by-district differences"
   ]
  },
  {
   "cell_type": "markdown",
   "metadata": {},
   "source": [
    "### Reading the data "
   ]
  },
  {
   "cell_type": "markdown",
   "metadata": {},
   "source": [
    "We'll read each file into a pandas dataframe, and then store all of the dataframes in a dictionary. "
   ]
  },
  {
   "cell_type": "code",
   "execution_count": 1,
   "metadata": {},
   "outputs": [
    {
     "name": "stdout",
     "output_type": "stream",
     "text": [
      "{'ap_2010':         DBN                                         SchoolName  \\\n",
      "0    01M448                       UNIVERSITY NEIGHBORHOOD H.S.   \n",
      "1    01M450                             EAST SIDE COMMUNITY HS   \n",
      "2    01M515                                LOWER EASTSIDE PREP   \n",
      "3    01M539                     NEW EXPLORATIONS SCI,TECH,MATH   \n",
      "4    02M296              High School of Hospitality Management   \n",
      "..      ...                                                ...   \n",
      "253  31R605                         STATEN ISLAND TECHNICAL HS   \n",
      "254  32K545                      EBC-HS FOR PUB SERVICE (BUSH)   \n",
      "255  32K552                          Academy of Urban Planning   \n",
      "256  32K554               All City Leadership Secondary School   \n",
      "257  32K556  Bushwick Leaders High School for Academic Exce...   \n",
      "\n",
      "     AP Test Takers   Total Exams Taken  Number of Exams with scores 3 4 or 5  \n",
      "0               39.0               49.0                                  10.0  \n",
      "1               19.0               21.0                                   NaN  \n",
      "2               24.0               26.0                                  24.0  \n",
      "3              255.0              377.0                                 191.0  \n",
      "4                NaN                NaN                                   NaN  \n",
      "..               ...                ...                                   ...  \n",
      "253            528.0              905.0                                 809.0  \n",
      "254             47.0               64.0                                  13.0  \n",
      "255             76.0              100.0                                  10.0  \n",
      "256              7.0                8.0                                   NaN  \n",
      "257             34.0               35.0                                  18.0  \n",
      "\n",
      "[258 rows x 5 columns], 'class_size':        CSD BOROUGH SCHOOL CODE                     SCHOOL NAME GRADE   \\\n",
      "0        1       M        M015       P.S. 015 Roberto Clemente     0K   \n",
      "1        1       M        M015       P.S. 015 Roberto Clemente     0K   \n",
      "2        1       M        M015       P.S. 015 Roberto Clemente     01   \n",
      "3        1       M        M015       P.S. 015 Roberto Clemente     01   \n",
      "4        1       M        M015       P.S. 015 Roberto Clemente     02   \n",
      "...    ...     ...         ...                             ...    ...   \n",
      "27606   32       K        K564  Bushwick Community High School  09-12   \n",
      "27607   32       K        K564  Bushwick Community High School  09-12   \n",
      "27608   32       K        K564  Bushwick Community High School  09-12   \n",
      "27609   32       K        K564  Bushwick Community High School  09-12   \n",
      "27610   32       K        K564  Bushwick Community High School    NaN   \n",
      "\n",
      "      PROGRAM TYPE CORE SUBJECT (MS CORE and 9-12 ONLY)  \\\n",
      "0           GEN ED                                    -   \n",
      "1              CTT                                    -   \n",
      "2           GEN ED                                    -   \n",
      "3              CTT                                    -   \n",
      "4           GEN ED                                    -   \n",
      "...            ...                                  ...   \n",
      "27606       GEN ED                       SOCIAL STUDIES   \n",
      "27607       GEN ED                       SOCIAL STUDIES   \n",
      "27608       GEN ED                       SOCIAL STUDIES   \n",
      "27609          CTT                                 MATH   \n",
      "27610          NaN                                  NaN   \n",
      "\n",
      "      CORE COURSE (MS CORE and 9-12 ONLY) SERVICE CATEGORY(K-9* ONLY)  \\\n",
      "0                                       -                           -   \n",
      "1                                       -                           -   \n",
      "2                                       -                           -   \n",
      "3                                       -                           -   \n",
      "4                                       -                           -   \n",
      "...                                   ...                         ...   \n",
      "27606             US History & Government                           -   \n",
      "27607                           Economics                           -   \n",
      "27608         Participation in Government                           -   \n",
      "27609                  Integrated Algebra                           -   \n",
      "27610                                 NaN                         NaN   \n",
      "\n",
      "       NUMBER OF STUDENTS / SEATS FILLED  NUMBER OF SECTIONS  \\\n",
      "0                                   19.0                 1.0   \n",
      "1                                   21.0                 1.0   \n",
      "2                                   17.0                 1.0   \n",
      "3                                   17.0                 1.0   \n",
      "4                                   15.0                 1.0   \n",
      "...                                  ...                 ...   \n",
      "27606                              256.0                10.0   \n",
      "27607                               65.0                 2.0   \n",
      "27608                               53.0                 2.0   \n",
      "27609                               50.0                 2.0   \n",
      "27610                                NaN                 NaN   \n",
      "\n",
      "       AVERAGE CLASS SIZE  SIZE OF SMALLEST CLASS  SIZE OF LARGEST CLASS  \\\n",
      "0                    19.0                    19.0                   19.0   \n",
      "1                    21.0                    21.0                   21.0   \n",
      "2                    17.0                    17.0                   17.0   \n",
      "3                    17.0                    17.0                   17.0   \n",
      "4                    15.0                    15.0                   15.0   \n",
      "...                   ...                     ...                    ...   \n",
      "27606                25.6                    15.0                   35.0   \n",
      "27607                32.5                    32.0                   33.0   \n",
      "27608                26.5                    25.0                   28.0   \n",
      "27609                25.0                    25.0                   25.0   \n",
      "27610                 NaN                     NaN                    NaN   \n",
      "\n",
      "      DATA SOURCE  SCHOOLWIDE PUPIL-TEACHER RATIO  \n",
      "0             ATS                             NaN  \n",
      "1             ATS                             NaN  \n",
      "2             ATS                             NaN  \n",
      "3             ATS                             NaN  \n",
      "4             ATS                             NaN  \n",
      "...           ...                             ...  \n",
      "27606       STARS                             NaN  \n",
      "27607       STARS                             NaN  \n",
      "27608       STARS                             NaN  \n",
      "27609       STARS                             NaN  \n",
      "27610         NaN                            17.1  \n",
      "\n",
      "[27611 rows x 16 columns], 'demographics':           DBN                                              Name  schoolyear  \\\n",
      "0      01M015                         P.S. 015 ROBERTO CLEMENTE    20052006   \n",
      "1      01M015                         P.S. 015 ROBERTO CLEMENTE    20062007   \n",
      "2      01M015                         P.S. 015 ROBERTO CLEMENTE    20072008   \n",
      "3      01M015                         P.S. 015 ROBERTO CLEMENTE    20082009   \n",
      "4      01M015                         P.S. 015 ROBERTO CLEMENTE    20092010   \n",
      "...       ...                                               ...         ...   \n",
      "10070  32K564                    BUSHWICK COMMUNITY HIGH SCHOOL    20072008   \n",
      "10071  32K564                    BUSHWICK COMMUNITY HIGH SCHOOL    20082009   \n",
      "10072  32K564                    BUSHWICK COMMUNITY HIGH SCHOOL    20092010   \n",
      "10073  32K564                    BUSHWICK COMMUNITY HIGH SCHOOL    20102011   \n",
      "10074  32K564  BUSHWICK COMMUNITY HIGH SCHOOL                      20112012   \n",
      "\n",
      "      fl_percent  frl_percent  total_enrollment  prek     k grade1 grade2  \\\n",
      "0           89.4          NaN               281    15    36     40     33   \n",
      "1           89.4          NaN               243    15    29     39     38   \n",
      "2           89.4          NaN               261    18    43     39     36   \n",
      "3           89.4          NaN               252    17    37     44     32   \n",
      "4                        96.5               208    16    40     28     32   \n",
      "...          ...          ...               ...   ...   ...    ...    ...   \n",
      "10070       85.6          NaN               355   NaN   NaN    NaN    NaN   \n",
      "10071       65.2          NaN               383   NaN   NaN    NaN    NaN   \n",
      "10072                    89.2               395   NaN   NaN    NaN    NaN   \n",
      "10073                    88.2               420   NaN   NaN    NaN    NaN   \n",
      "10074        NaN         81.8               382                             \n",
      "\n",
      "       ... black_num black_per hispanic_num hispanic_per white_num white_per  \\\n",
      "0      ...        74      26.3          189         67.3         5       1.8   \n",
      "1      ...        68      28.0          153         63.0         4       1.6   \n",
      "2      ...        77      29.5          157         60.2         7       2.7   \n",
      "3      ...        75      29.8          149         59.1         7       2.8   \n",
      "4      ...        67      32.2          118         56.7         6       2.9   \n",
      "...    ...       ...       ...          ...          ...       ...       ...   \n",
      "10070  ...       151      42.5          198         55.8         5       1.4   \n",
      "10071  ...       132      34.5          245         64.0         2       0.5   \n",
      "10072  ...       146      37.0          242         61.3         3       0.8   \n",
      "10073  ...       166      39.5          242         57.6         8       1.9   \n",
      "10074  ...       137      35.9          235         61.5         7       1.8   \n",
      "\n",
      "      male_num male_per female_num female_per  \n",
      "0        158.0     56.2      123.0       43.8  \n",
      "1        140.0     57.6      103.0       42.4  \n",
      "2        143.0     54.8      118.0       45.2  \n",
      "3        149.0     59.1      103.0       40.9  \n",
      "4        124.0     59.6       84.0       40.4  \n",
      "...        ...      ...        ...        ...  \n",
      "10070    181.0     51.0      174.0       49.0  \n",
      "10071    206.0     53.8      177.0       46.2  \n",
      "10072    199.0     50.4      196.0       49.6  \n",
      "10073    209.0     49.8      211.0       50.2  \n",
      "10074    169.0     44.2      213.0       55.8  \n",
      "\n",
      "[10075 rows x 38 columns], 'graduation':         Demographic     DBN                            School Name    Cohort  \\\n",
      "0      Total Cohort  01M292  HENRY STREET SCHOOL FOR INTERNATIONAL      2003   \n",
      "1      Total Cohort  01M292  HENRY STREET SCHOOL FOR INTERNATIONAL      2004   \n",
      "2      Total Cohort  01M292  HENRY STREET SCHOOL FOR INTERNATIONAL      2005   \n",
      "3      Total Cohort  01M292  HENRY STREET SCHOOL FOR INTERNATIONAL      2006   \n",
      "4      Total Cohort  01M292  HENRY STREET SCHOOL FOR INTERNATIONAL  2006 Aug   \n",
      "...             ...     ...                                    ...       ...   \n",
      "25091          Male  32K564         BUSHWICK COMMUNITY HIGH SCHOOL      2003   \n",
      "25092          Male  32K564         BUSHWICK COMMUNITY HIGH SCHOOL      2004   \n",
      "25093          Male  32K564         BUSHWICK COMMUNITY HIGH SCHOOL      2005   \n",
      "25094          Male  32K564         BUSHWICK COMMUNITY HIGH SCHOOL      2006   \n",
      "25095          Male  32K564         BUSHWICK COMMUNITY HIGH SCHOOL  2006 Aug   \n",
      "\n",
      "       Total Cohort Total Grads - n  Total Grads - % of cohort  \\\n",
      "0                 5               s                        NaN   \n",
      "1                55              37                       67.3   \n",
      "2                64              43                       67.2   \n",
      "3                78              43                       55.1   \n",
      "4                78              44                       56.4   \n",
      "...             ...             ...                        ...   \n",
      "25091            65               1                        1.5   \n",
      "25092            64               2                        3.1   \n",
      "25093            79               3                        3.8   \n",
      "25094            57               4                        7.0   \n",
      "25095            57               4                        7.0   \n",
      "\n",
      "      Total Regents - n  Total Regents - % of cohort  \\\n",
      "0                     s                          NaN   \n",
      "1                    17                         30.9   \n",
      "2                    27                         42.2   \n",
      "3                    36                         46.2   \n",
      "4                    37                         47.4   \n",
      "...                 ...                          ...   \n",
      "25091                 0                          0.0   \n",
      "25092                 0                          0.0   \n",
      "25093                 1                          1.3   \n",
      "25094                 2                          3.5   \n",
      "25095                 2                          3.5   \n",
      "\n",
      "       Total Regents - % of grads  ... Regents w/o Advanced - n  \\\n",
      "0                             NaN  ...                        s   \n",
      "1                            45.9  ...                       17   \n",
      "2                            62.8  ...                       27   \n",
      "3                            83.7  ...                       36   \n",
      "4                            84.1  ...                       37   \n",
      "...                           ...  ...                      ...   \n",
      "25091                         0.0  ...                        0   \n",
      "25092                         0.0  ...                        0   \n",
      "25093                        33.3  ...                        1   \n",
      "25094                        50.0  ...                        2   \n",
      "25095                        50.0  ...                        2   \n",
      "\n",
      "       Regents w/o Advanced - % of cohort  Regents w/o Advanced - % of grads  \\\n",
      "0                                     NaN                                NaN   \n",
      "1                                    30.9                               45.9   \n",
      "2                                    42.2                               62.8   \n",
      "3                                    46.2                               83.7   \n",
      "4                                    47.4                               84.1   \n",
      "...                                   ...                                ...   \n",
      "25091                                 0.0                                0.0   \n",
      "25092                                 0.0                                0.0   \n",
      "25093                                 1.3                               33.3   \n",
      "25094                                 3.5                               50.0   \n",
      "25095                                 3.5                               50.0   \n",
      "\n",
      "      Local - n  Local - % of cohort  Local - % of grads Still Enrolled - n  \\\n",
      "0             s                  NaN                 NaN                  s   \n",
      "1            20                 36.4                54.1                 15   \n",
      "2            16                 25.0                37.2                  9   \n",
      "3             7                  9.0                16.3                 16   \n",
      "4             7                  9.0                15.9                 15   \n",
      "...         ...                  ...                 ...                ...   \n",
      "25091         1                  1.5               100.0               44.0   \n",
      "25092         2                  3.1               100.0               38.0   \n",
      "25093         2                  2.5                66.7               46.0   \n",
      "25094         2                  3.5                50.0               34.0   \n",
      "25095         2                  3.5                50.0               34.0   \n",
      "\n",
      "       Still Enrolled - % of cohort  Dropped Out - n Dropped Out - % of cohort  \n",
      "0                               NaN                s                       NaN  \n",
      "1                              27.3                3                       5.5  \n",
      "2                              14.1                9                      14.1  \n",
      "3                              20.5               11                      14.1  \n",
      "4                              19.2               11                      14.1  \n",
      "...                             ...              ...                       ...  \n",
      "25091                          67.7             20.0                      30.8  \n",
      "25092                          59.4             22.0                      34.4  \n",
      "25093                          58.2             28.0                      35.4  \n",
      "25094                          59.6             17.0                      29.8  \n",
      "25095                          59.6             17.0                      29.8  \n",
      "\n",
      "[25096 rows x 23 columns], 'hs_directory':         dbn                                        school_name    borough  \\\n",
      "0    27Q260          Frederick Douglass Academy VI High School     Queens   \n",
      "1    21K559        Life Academy High School for Film and Music   Brooklyn   \n",
      "2    16K393     Frederick Douglass Academy IV Secondary School   Brooklyn   \n",
      "3    08X305                               Pablo Neruda Academy      Bronx   \n",
      "4    03M485  Fiorello H. LaGuardia High School of Music & A...  Manhattan   \n",
      "..      ...                                                ...        ...   \n",
      "430  02M300  Urban Assembly School of Design and Constructi...  Manhattan   \n",
      "431  09X412                      Bronx High School of Business      Bronx   \n",
      "432  32K549                 Bushwick School for Social Justice   Brooklyn   \n",
      "433  02M407              Institute for Collaborative Education  Manhattan   \n",
      "434  21K344      Rachel Carson High School for Coastal Studies   Brooklyn   \n",
      "\n",
      "    building_code  phone_number    fax_number  grade_span_min  grade_span_max  \\\n",
      "0            Q465  718-471-2154  718-471-2890             9.0              12   \n",
      "1            K400  718-333-7750  718-333-7775             9.0              12   \n",
      "2            K026  718-574-2820  718-574-2821             9.0              12   \n",
      "3            X450  718-824-1682  718-824-1663             9.0              12   \n",
      "4            M485  212-496-0700  212-724-5748             9.0              12   \n",
      "..            ...           ...           ...             ...             ...   \n",
      "430          M535  212-586-0981  212-586-1731             9.0              12   \n",
      "431          X410  718-410-4060  718-992-5760             9.0              12   \n",
      "432          K480  718-381-7100  718-418-0192             9.0              12   \n",
      "433          M475  212-475-7972  212-475-0459             6.0              12   \n",
      "434          K303  718-265-0329  718-372-2514             9.0              12   \n",
      "\n",
      "     expgrade_span_min  expgrade_span_max  ... priority08 priority09  \\\n",
      "0                  NaN                NaN  ...        NaN        NaN   \n",
      "1                  NaN                NaN  ...        NaN        NaN   \n",
      "2                  NaN                NaN  ...        NaN        NaN   \n",
      "3                  NaN                NaN  ...        NaN        NaN   \n",
      "4                  NaN                NaN  ...        NaN        NaN   \n",
      "..                 ...                ...  ...        ...        ...   \n",
      "430                NaN                NaN  ...        NaN        NaN   \n",
      "431                NaN                NaN  ...        NaN        NaN   \n",
      "432                NaN                NaN  ...        NaN        NaN   \n",
      "433                NaN                NaN  ...        NaN        NaN   \n",
      "434                NaN                NaN  ...        NaN        NaN   \n",
      "\n",
      "    priority10                                         Location 1  \\\n",
      "0          NaN  8 21 Bay 25 Street\\nFar Rockaway, NY 11691\\n(4...   \n",
      "1          NaN  2630 Benson Avenue\\nBrooklyn, NY 11214\\n(40.59...   \n",
      "2          NaN  1014 Lafayette Avenue\\nBrooklyn, NY 11221\\n(40...   \n",
      "3          NaN  1980 Lafayette Avenue\\nBronx, NY 10473\\n(40.82...   \n",
      "4          NaN  100 Amsterdam Avenue\\nNew York, NY 10023\\n(40....   \n",
      "..         ...                                                ...   \n",
      "430        NaN  525 West 50Th Street\\nNew York, NY 10019\\n(40....   \n",
      "431        NaN  240 East 172 Street\\nBronx, NY 10457\\n(40.8403...   \n",
      "432        NaN  400 Irving Avenue\\nBrooklyn, NY 11237\\n(40.696...   \n",
      "433        NaN  345 East 15Th Street\\nNew York, NY 10003\\n(40....   \n",
      "434        NaN  521 West Avenue\\nBrooklyn, NY 11224\\n(40.58211...   \n",
      "\n",
      "    Community Board  Council District Census Tract        BIN           BBL  \\\n",
      "0              14.0              31.0     100802.0  4300730.0  4.157360e+09   \n",
      "1              13.0              47.0        306.0  3186454.0  3.068830e+09   \n",
      "2               3.0              36.0        291.0  3393805.0  3.016160e+09   \n",
      "3               9.0              18.0         16.0  2022205.0  2.036040e+09   \n",
      "4               7.0               6.0        151.0  1030341.0  1.011560e+09   \n",
      "..              ...               ...          ...        ...           ...   \n",
      "430             4.0               3.0        135.0  1083802.0  1.010790e+09   \n",
      "431             4.0              16.0        225.0  2007806.0  2.028170e+09   \n",
      "432             4.0              37.0        435.0  3076908.0  3.033650e+09   \n",
      "433             6.0               2.0         48.0  1020419.0  1.009220e+09   \n",
      "434            13.0              47.0        354.0  3196292.0  3.072500e+09   \n",
      "\n",
      "                                                   NTA  \n",
      "0    Far Rockaway-Bayswater                        ...  \n",
      "1    Gravesend                                     ...  \n",
      "2    Stuyvesant Heights                            ...  \n",
      "3    Soundview-Castle Hill-Clason Point-Harding Par...  \n",
      "4    Lincoln Square                                ...  \n",
      "..                                                 ...  \n",
      "430  Clinton                                       ...  \n",
      "431  East Concourse-Concourse Village              ...  \n",
      "432  Bushwick North                                ...  \n",
      "433  Gramercy                                      ...  \n",
      "434  West Brighton                                 ...  \n",
      "\n",
      "[435 rows x 64 columns], 'sat_results':         DBN                                    SCHOOL NAME  \\\n",
      "0    01M292  HENRY STREET SCHOOL FOR INTERNATIONAL STUDIES   \n",
      "1    01M448            UNIVERSITY NEIGHBORHOOD HIGH SCHOOL   \n",
      "2    01M450                     EAST SIDE COMMUNITY SCHOOL   \n",
      "3    01M458                      FORSYTH SATELLITE ACADEMY   \n",
      "4    01M509                        MARTA VALLE HIGH SCHOOL   \n",
      "..      ...                                            ...   \n",
      "473  75X012               P.S. X012 LEWIS AND CLARK SCHOOL   \n",
      "474  75X754        J. M. RAPPORT SCHOOL CAREER DEVELOPMENT   \n",
      "475  79M645     SCHOOL FOR COOPERATIVE TECHNICAL EDUCATION   \n",
      "476  79Q950                            GED PLUS s CITYWIDE   \n",
      "477  79X490                                PHOENIX ACADEMY   \n",
      "\n",
      "    Num of SAT Test Takers SAT Critical Reading Avg. Score  \\\n",
      "0                       29                             355   \n",
      "1                       91                             383   \n",
      "2                       70                             377   \n",
      "3                        7                             414   \n",
      "4                       44                             390   \n",
      "..                     ...                             ...   \n",
      "473                      s                               s   \n",
      "474                      s                               s   \n",
      "475                      s                               s   \n",
      "476                      8                             496   \n",
      "477                      9                             367   \n",
      "\n",
      "    SAT Math Avg. Score SAT Writing Avg. Score  \n",
      "0                   404                    363  \n",
      "1                   423                    366  \n",
      "2                   402                    370  \n",
      "3                   401                    359  \n",
      "4                   433                    384  \n",
      "..                  ...                    ...  \n",
      "473                   s                      s  \n",
      "474                   s                      s  \n",
      "475                   s                      s  \n",
      "476                 400                    426  \n",
      "477                 370                    360  \n",
      "\n",
      "[478 rows x 6 columns]}\n"
     ]
    }
   ],
   "source": [
    "import pandas as pd\n",
    "data_files = [\n",
    "    \"ap_2010.csv\",\n",
    "    \"class_size.csv\",\n",
    "    \"demographics.csv\",\n",
    "    \"graduation.csv\",\n",
    "    \"hs_directory.csv\",\n",
    "    \"sat_results.csv\"\n",
    "]\n",
    "data = {}\n",
    "\n",
    "# Read the files \n",
    "for x in data_files:\n",
    "    d = pd.read_csv(x)\n",
    "    key_name = x.replace(\".csv\", \"\")\n",
    "    data[key_name] = d\n",
    "\n",
    "print(data)"
   ]
  },
  {
   "cell_type": "markdown",
   "metadata": {},
   "source": [
    "What we're mainly interested in is the SAT data set, which corresponds to the dictionary key sat_results. This data set contains the SAT scores for each high school in New York City. We eventually want to correlate selected information from this data set with information in the other data sets."
   ]
  },
  {
   "cell_type": "code",
   "execution_count": 2,
   "metadata": {},
   "outputs": [
    {
     "name": "stdout",
     "output_type": "stream",
     "text": [
      "      DBN                                    SCHOOL NAME  \\\n",
      "0  01M292  HENRY STREET SCHOOL FOR INTERNATIONAL STUDIES   \n",
      "1  01M448            UNIVERSITY NEIGHBORHOOD HIGH SCHOOL   \n",
      "2  01M450                     EAST SIDE COMMUNITY SCHOOL   \n",
      "3  01M458                      FORSYTH SATELLITE ACADEMY   \n",
      "4  01M509                        MARTA VALLE HIGH SCHOOL   \n",
      "\n",
      "  Num of SAT Test Takers SAT Critical Reading Avg. Score SAT Math Avg. Score  \\\n",
      "0                     29                             355                 404   \n",
      "1                     91                             383                 423   \n",
      "2                     70                             377                 402   \n",
      "3                      7                             414                 401   \n",
      "4                     44                             390                 433   \n",
      "\n",
      "  SAT Writing Avg. Score  \n",
      "0                    363  \n",
      "1                    366  \n",
      "2                    370  \n",
      "3                    359  \n",
      "4                    384  \n"
     ]
    }
   ],
   "source": [
    "print(data['sat_results'].head(5))"
   ]
  },
  {
   "cell_type": "markdown",
   "metadata": {},
   "source": [
    "We can make a few observations based on this output: \n",
    "- **The DBN appears to be a unique ID for each school.**\n",
    "- We can tell from the first few rows of names that we only have data about high schools\n",
    "- There's only a single row for each high school, so each DBN is unique in the SAT data.\n",
    "- **We may eventually want to combine the three columns that contain SAT scores -- SAT Critical Reading Avg. Score, SAT Math Avg. Score, and SAT Writing Avg. Score -- into a single column to make the scores easier to analyze.**"
   ]
  },
  {
   "cell_type": "code",
   "execution_count": 3,
   "metadata": {},
   "outputs": [
    {
     "name": "stdout",
     "output_type": "stream",
     "text": [
      "      DBN                             SchoolName  AP Test Takers   \\\n",
      "0  01M448           UNIVERSITY NEIGHBORHOOD H.S.             39.0   \n",
      "1  01M450                 EAST SIDE COMMUNITY HS             19.0   \n",
      "2  01M515                    LOWER EASTSIDE PREP             24.0   \n",
      "3  01M539         NEW EXPLORATIONS SCI,TECH,MATH            255.0   \n",
      "4  02M296  High School of Hospitality Management              NaN   \n",
      "\n",
      "   Total Exams Taken  Number of Exams with scores 3 4 or 5  \n",
      "0               49.0                                  10.0  \n",
      "1               21.0                                   NaN  \n",
      "2               26.0                                  24.0  \n",
      "3              377.0                                 191.0  \n",
      "4                NaN                                   NaN  \n",
      "   CSD BOROUGH SCHOOL CODE                SCHOOL NAME GRADE  PROGRAM TYPE  \\\n",
      "0    1       M        M015  P.S. 015 Roberto Clemente     0K       GEN ED   \n",
      "1    1       M        M015  P.S. 015 Roberto Clemente     0K          CTT   \n",
      "2    1       M        M015  P.S. 015 Roberto Clemente     01       GEN ED   \n",
      "3    1       M        M015  P.S. 015 Roberto Clemente     01          CTT   \n",
      "4    1       M        M015  P.S. 015 Roberto Clemente     02       GEN ED   \n",
      "\n",
      "  CORE SUBJECT (MS CORE and 9-12 ONLY) CORE COURSE (MS CORE and 9-12 ONLY)  \\\n",
      "0                                    -                                   -   \n",
      "1                                    -                                   -   \n",
      "2                                    -                                   -   \n",
      "3                                    -                                   -   \n",
      "4                                    -                                   -   \n",
      "\n",
      "  SERVICE CATEGORY(K-9* ONLY)  NUMBER OF STUDENTS / SEATS FILLED  \\\n",
      "0                           -                               19.0   \n",
      "1                           -                               21.0   \n",
      "2                           -                               17.0   \n",
      "3                           -                               17.0   \n",
      "4                           -                               15.0   \n",
      "\n",
      "   NUMBER OF SECTIONS  AVERAGE CLASS SIZE  SIZE OF SMALLEST CLASS  \\\n",
      "0                 1.0                19.0                    19.0   \n",
      "1                 1.0                21.0                    21.0   \n",
      "2                 1.0                17.0                    17.0   \n",
      "3                 1.0                17.0                    17.0   \n",
      "4                 1.0                15.0                    15.0   \n",
      "\n",
      "   SIZE OF LARGEST CLASS DATA SOURCE  SCHOOLWIDE PUPIL-TEACHER RATIO  \n",
      "0                   19.0         ATS                             NaN  \n",
      "1                   21.0         ATS                             NaN  \n",
      "2                   17.0         ATS                             NaN  \n",
      "3                   17.0         ATS                             NaN  \n",
      "4                   15.0         ATS                             NaN  \n",
      "      DBN                       Name  schoolyear fl_percent  frl_percent  \\\n",
      "0  01M015  P.S. 015 ROBERTO CLEMENTE    20052006       89.4          NaN   \n",
      "1  01M015  P.S. 015 ROBERTO CLEMENTE    20062007       89.4          NaN   \n",
      "2  01M015  P.S. 015 ROBERTO CLEMENTE    20072008       89.4          NaN   \n",
      "3  01M015  P.S. 015 ROBERTO CLEMENTE    20082009       89.4          NaN   \n",
      "4  01M015  P.S. 015 ROBERTO CLEMENTE    20092010                    96.5   \n",
      "\n",
      "   total_enrollment prek   k grade1 grade2  ... black_num black_per  \\\n",
      "0               281   15  36     40     33  ...        74      26.3   \n",
      "1               243   15  29     39     38  ...        68      28.0   \n",
      "2               261   18  43     39     36  ...        77      29.5   \n",
      "3               252   17  37     44     32  ...        75      29.8   \n",
      "4               208   16  40     28     32  ...        67      32.2   \n",
      "\n",
      "  hispanic_num hispanic_per white_num white_per male_num male_per female_num  \\\n",
      "0          189         67.3         5       1.8    158.0     56.2      123.0   \n",
      "1          153         63.0         4       1.6    140.0     57.6      103.0   \n",
      "2          157         60.2         7       2.7    143.0     54.8      118.0   \n",
      "3          149         59.1         7       2.8    149.0     59.1      103.0   \n",
      "4          118         56.7         6       2.9    124.0     59.6       84.0   \n",
      "\n",
      "  female_per  \n",
      "0       43.8  \n",
      "1       42.4  \n",
      "2       45.2  \n",
      "3       40.9  \n",
      "4       40.4  \n",
      "\n",
      "[5 rows x 38 columns]\n",
      "    Demographic     DBN                            School Name    Cohort  \\\n",
      "0  Total Cohort  01M292  HENRY STREET SCHOOL FOR INTERNATIONAL      2003   \n",
      "1  Total Cohort  01M292  HENRY STREET SCHOOL FOR INTERNATIONAL      2004   \n",
      "2  Total Cohort  01M292  HENRY STREET SCHOOL FOR INTERNATIONAL      2005   \n",
      "3  Total Cohort  01M292  HENRY STREET SCHOOL FOR INTERNATIONAL      2006   \n",
      "4  Total Cohort  01M292  HENRY STREET SCHOOL FOR INTERNATIONAL  2006 Aug   \n",
      "\n",
      "   Total Cohort Total Grads - n  Total Grads - % of cohort Total Regents - n  \\\n",
      "0             5               s                        NaN                 s   \n",
      "1            55              37                       67.3                17   \n",
      "2            64              43                       67.2                27   \n",
      "3            78              43                       55.1                36   \n",
      "4            78              44                       56.4                37   \n",
      "\n",
      "   Total Regents - % of cohort  Total Regents - % of grads  ...  \\\n",
      "0                          NaN                         NaN  ...   \n",
      "1                         30.9                        45.9  ...   \n",
      "2                         42.2                        62.8  ...   \n",
      "3                         46.2                        83.7  ...   \n",
      "4                         47.4                        84.1  ...   \n",
      "\n",
      "  Regents w/o Advanced - n  Regents w/o Advanced - % of cohort  \\\n",
      "0                        s                                 NaN   \n",
      "1                       17                                30.9   \n",
      "2                       27                                42.2   \n",
      "3                       36                                46.2   \n",
      "4                       37                                47.4   \n",
      "\n",
      "   Regents w/o Advanced - % of grads Local - n  Local - % of cohort  \\\n",
      "0                                NaN         s                  NaN   \n",
      "1                               45.9        20                 36.4   \n",
      "2                               62.8        16                 25.0   \n",
      "3                               83.7         7                  9.0   \n",
      "4                               84.1         7                  9.0   \n",
      "\n",
      "   Local - % of grads Still Enrolled - n  Still Enrolled - % of cohort  \\\n",
      "0                 NaN                  s                           NaN   \n",
      "1                54.1                 15                          27.3   \n",
      "2                37.2                  9                          14.1   \n",
      "3                16.3                 16                          20.5   \n",
      "4                15.9                 15                          19.2   \n",
      "\n",
      "   Dropped Out - n Dropped Out - % of cohort  \n",
      "0                s                       NaN  \n",
      "1                3                       5.5  \n",
      "2                9                      14.1  \n",
      "3               11                      14.1  \n",
      "4               11                      14.1  \n",
      "\n",
      "[5 rows x 23 columns]\n",
      "      dbn                                        school_name    borough  \\\n",
      "0  27Q260          Frederick Douglass Academy VI High School     Queens   \n",
      "1  21K559        Life Academy High School for Film and Music   Brooklyn   \n",
      "2  16K393     Frederick Douglass Academy IV Secondary School   Brooklyn   \n",
      "3  08X305                               Pablo Neruda Academy      Bronx   \n",
      "4  03M485  Fiorello H. LaGuardia High School of Music & A...  Manhattan   \n",
      "\n",
      "  building_code  phone_number    fax_number  grade_span_min  grade_span_max  \\\n",
      "0          Q465  718-471-2154  718-471-2890             9.0              12   \n",
      "1          K400  718-333-7750  718-333-7775             9.0              12   \n",
      "2          K026  718-574-2820  718-574-2821             9.0              12   \n",
      "3          X450  718-824-1682  718-824-1663             9.0              12   \n",
      "4          M485  212-496-0700  212-724-5748             9.0              12   \n",
      "\n",
      "   expgrade_span_min  expgrade_span_max  ... priority08 priority09 priority10  \\\n",
      "0                NaN                NaN  ...        NaN        NaN        NaN   \n",
      "1                NaN                NaN  ...        NaN        NaN        NaN   \n",
      "2                NaN                NaN  ...        NaN        NaN        NaN   \n",
      "3                NaN                NaN  ...        NaN        NaN        NaN   \n",
      "4                NaN                NaN  ...        NaN        NaN        NaN   \n",
      "\n",
      "                                          Location 1 Community Board  \\\n",
      "0  8 21 Bay 25 Street\\nFar Rockaway, NY 11691\\n(4...            14.0   \n",
      "1  2630 Benson Avenue\\nBrooklyn, NY 11214\\n(40.59...            13.0   \n",
      "2  1014 Lafayette Avenue\\nBrooklyn, NY 11221\\n(40...             3.0   \n",
      "3  1980 Lafayette Avenue\\nBronx, NY 10473\\n(40.82...             9.0   \n",
      "4  100 Amsterdam Avenue\\nNew York, NY 10023\\n(40....             7.0   \n",
      "\n",
      "   Council District Census Tract        BIN           BBL  \\\n",
      "0              31.0     100802.0  4300730.0  4.157360e+09   \n",
      "1              47.0        306.0  3186454.0  3.068830e+09   \n",
      "2              36.0        291.0  3393805.0  3.016160e+09   \n",
      "3              18.0         16.0  2022205.0  2.036040e+09   \n",
      "4               6.0        151.0  1030341.0  1.011560e+09   \n",
      "\n",
      "                                                 NTA  \n",
      "0  Far Rockaway-Bayswater                        ...  \n",
      "1  Gravesend                                     ...  \n",
      "2  Stuyvesant Heights                            ...  \n",
      "3  Soundview-Castle Hill-Clason Point-Harding Par...  \n",
      "4  Lincoln Square                                ...  \n",
      "\n",
      "[5 rows x 64 columns]\n",
      "      DBN                                    SCHOOL NAME  \\\n",
      "0  01M292  HENRY STREET SCHOOL FOR INTERNATIONAL STUDIES   \n",
      "1  01M448            UNIVERSITY NEIGHBORHOOD HIGH SCHOOL   \n",
      "2  01M450                     EAST SIDE COMMUNITY SCHOOL   \n",
      "3  01M458                      FORSYTH SATELLITE ACADEMY   \n",
      "4  01M509                        MARTA VALLE HIGH SCHOOL   \n",
      "\n",
      "  Num of SAT Test Takers SAT Critical Reading Avg. Score SAT Math Avg. Score  \\\n",
      "0                     29                             355                 404   \n",
      "1                     91                             383                 423   \n",
      "2                     70                             377                 402   \n",
      "3                      7                             414                 401   \n",
      "4                     44                             390                 433   \n",
      "\n",
      "  SAT Writing Avg. Score  \n",
      "0                    363  \n",
      "1                    366  \n",
      "2                    370  \n",
      "3                    359  \n",
      "4                    384  \n"
     ]
    }
   ],
   "source": [
    "for k in data:\n",
    "    print(data[k].head())"
   ]
  },
  {
   "cell_type": "markdown",
   "metadata": {},
   "source": [
    "### Reading in the survey data "
   ]
  },
  {
   "cell_type": "markdown",
   "metadata": {},
   "source": [
    "Before we proceed with the merge, we should make sure we have all of the data we want to unify. We mentioned the survey data earlier (survey_all.txt and survey_d75.txt), but we didn't read those files in because they're in a slightly more complex format.\n",
    "<br>\n",
    "<br>\n",
    "We shd combine the 2 dataframes "
   ]
  },
  {
   "cell_type": "code",
   "execution_count": 4,
   "metadata": {},
   "outputs": [
    {
     "name": "stdout",
     "output_type": "stream",
     "text": [
      "     N_p    N_s   N_t  aca_p_11  aca_s_11  aca_t_11  aca_tot_11    bn  \\\n",
      "0   90.0    NaN  22.0       7.8       NaN       7.9         7.9  M015   \n",
      "1  161.0    NaN  34.0       7.8       NaN       9.1         8.4  M019   \n",
      "2  367.0    NaN  42.0       8.6       NaN       7.5         8.0  M020   \n",
      "3  151.0  145.0  29.0       8.5       7.4       7.8         7.9  M034   \n",
      "4   90.0    NaN  23.0       7.9       NaN       8.1         8.0  M063   \n",
      "\n",
      "   com_p_11  com_s_11  ...  t_q8c_1  t_q8c_2  t_q8c_3 t_q8c_4  t_q9  t_q9_1  \\\n",
      "0       7.6       NaN  ...     29.0     67.0      5.0     0.0   NaN     5.0   \n",
      "1       7.6       NaN  ...     74.0     21.0      6.0     0.0   NaN     3.0   \n",
      "2       8.3       NaN  ...     33.0     35.0     20.0    13.0   NaN     3.0   \n",
      "3       8.2       5.9  ...     21.0     45.0     28.0     7.0   NaN     0.0   \n",
      "4       7.9       NaN  ...     59.0     36.0      5.0     0.0   NaN    10.0   \n",
      "\n",
      "   t_q9_2  t_q9_3  t_q9_4  t_q9_5  \n",
      "0    14.0    52.0    24.0     5.0  \n",
      "1     6.0     3.0    78.0     9.0  \n",
      "2     5.0    16.0    70.0     5.0  \n",
      "3    18.0    32.0    39.0    11.0  \n",
      "4     5.0    10.0    60.0    15.0  \n",
      "\n",
      "[5 rows x 2773 columns]\n"
     ]
    },
    {
     "name": "stderr",
     "output_type": "stream",
     "text": [
      "C:\\Users\\pakhl\\Anaconda3\\lib\\site-packages\\ipykernel_launcher.py:3: FutureWarning: Sorting because non-concatenation axis is not aligned. A future version\n",
      "of pandas will change to not sort by default.\n",
      "\n",
      "To accept the future behavior, pass 'sort=False'.\n",
      "\n",
      "To retain the current behavior and silence the warning, pass 'sort=True'.\n",
      "\n",
      "  This is separate from the ipykernel package so we can avoid doing imports until\n"
     ]
    }
   ],
   "source": [
    "all_survey = pd.read_csv('survey_all.txt', delimiter=\"\\t\", encoding='windows-1252')\n",
    "d75_survey = pd.read_csv('survey_d75.txt', delimiter=\"\\t\", encoding='windows-1252')\n",
    "survey = pd.concat([all_survey, d75_survey], axis=0)\n",
    "print(survey.head(5))"
   ]
  },
  {
   "cell_type": "markdown",
   "metadata": {},
   "source": [
    "There are two immediate facts that we can see in the data:\n",
    "<br>\n",
    "<br>\n",
    "- There are over 2000 columns, nearly all of which we don't need. We'll have to filter the data to remove the unnecessary ones. Working with fewer columns will make it easier to print the dataframe out and find correlations within it.\n",
    "- The survey data has a dbn column that we'll want to convert to uppercase (DBN). The conversion will make the column name consistent with the other data sets."
   ]
  },
  {
   "cell_type": "markdown",
   "metadata": {},
   "source": [
    "Based on the dictionary, it looks like these are the relevant columns:\n",
    "<br>\n",
    "<br>\n",
    "**[\"dbn\", \"rr_s\", \"rr_t\", \"rr_p\", \"N_s\", \"N_t\", \"N_p\", \"saf_p_11\", \"com_p_11\", \"eng_p_11\", \"aca_p_11\", \"saf_t_11\", \"com_t_11\", \"eng_t_11\", \"aca_t_11\", \"saf_s_11\", \"com_s_11\", \"eng_s_11\", \"aca_s_11\", \"saf_tot_11\", \"com_tot_11\", \"eng_tot_11\", \"aca_tot_11\"]**\n",
    "<br>\n",
    "<br>\n",
    "These columns will give us aggregate survey data about how parents, teachers, and students feel about school safety, academic performance, and more. It will also give us the DBN, which allows us to uniquely identify the school.\n",
    "<br>\n",
    "<br>\n",
    "Before we filter columns out, we'll want to copy the data from the dbn column into a new column called DBN. We can copy columns like this"
   ]
  },
  {
   "cell_type": "code",
   "execution_count": 5,
   "metadata": {},
   "outputs": [
    {
     "name": "stdout",
     "output_type": "stream",
     "text": [
      "<class 'pandas.core.frame.DataFrame'>\n",
      "Int64Index: 1702 entries, 0 to 55\n",
      "Data columns (total 23 columns):\n",
      "DBN           1702 non-null object\n",
      "rr_s          1041 non-null float64\n",
      "rr_t          1702 non-null int64\n",
      "rr_p          1702 non-null int64\n",
      "N_s           1036 non-null float64\n",
      "N_t           1700 non-null float64\n",
      "N_p           1696 non-null float64\n",
      "saf_p_11      1696 non-null float64\n",
      "com_p_11      1696 non-null float64\n",
      "eng_p_11      1696 non-null float64\n",
      "aca_p_11      1696 non-null float64\n",
      "saf_t_11      1700 non-null float64\n",
      "com_t_11      1700 non-null float64\n",
      "eng_t_11      1700 non-null float64\n",
      "aca_t_11      1700 non-null float64\n",
      "saf_s_11      1036 non-null float64\n",
      "com_s_11      1036 non-null float64\n",
      "eng_s_11      1036 non-null float64\n",
      "aca_s_11      1036 non-null float64\n",
      "saf_tot_11    1702 non-null float64\n",
      "com_tot_11    1702 non-null float64\n",
      "eng_tot_11    1702 non-null float64\n",
      "aca_tot_11    1702 non-null float64\n",
      "dtypes: float64(20), int64(2), object(1)\n",
      "memory usage: 319.1+ KB\n",
      "None\n"
     ]
    }
   ],
   "source": [
    "survey['DBN'] = survey['dbn']\n",
    "survey_fields = [\"DBN\", \"rr_s\", \"rr_t\", \"rr_p\", \"N_s\", \"N_t\", \"N_p\", \"saf_p_11\", \"com_p_11\", \"eng_p_11\", \"aca_p_11\", \"saf_t_11\", \"com_t_11\", \"eng_t_11\", \"aca_t_11\", \"saf_s_11\", \"com_s_11\", \"eng_s_11\", \"aca_s_11\", \"saf_tot_11\", \"com_tot_11\", \"eng_tot_11\", \"aca_tot_11\"]\n",
    "survey = survey.loc[:,survey_fields]\n",
    "\n",
    "data['survey'] = survey\n",
    "print(data['survey'].info())"
   ]
  },
  {
   "cell_type": "markdown",
   "metadata": {},
   "source": [
    "When we explored all of the data sets, we noticed that some of them, like class_size and hs_directory, don't have a DBN column. hs_directory does have a dbn column, though, so we can just rename it.\n",
    "<br>\n",
    "<br>\n",
    "For the other dataset, we can formulate the DBN column as follows:"
   ]
  },
  {
   "cell_type": "code",
   "execution_count": 6,
   "metadata": {},
   "outputs": [
    {
     "name": "stdout",
     "output_type": "stream",
     "text": [
      "0    01M015\n",
      "1    01M015\n",
      "2    01M015\n",
      "3    01M015\n",
      "4    01M015\n",
      "Name: DBN, dtype: object\n"
     ]
    }
   ],
   "source": [
    "def change_code(code):\n",
    "    codeStr = str(code)\n",
    "    if len(codeStr) == 2:\n",
    "        return codeStr \n",
    "    elif len(codeStr) == 1:\n",
    "        return '0' + codeStr\n",
    "\n",
    "data['hs_directory']['DBN'] = data['hs_directory']['dbn']\n",
    "data['class_size']['padded_csd'] = data[\"class_size\"][\"CSD\"].apply(change_code)\n",
    "data[\"class_size\"]['DBN'] = data[\"class_size\"][\"padded_csd\"] + data[\"class_size\"][\"SCHOOL CODE\"]\n",
    "print(data[\"class_size\"]['DBN'].head(5))"
   ]
  },
  {
   "cell_type": "markdown",
   "metadata": {},
   "source": [
    "Now we're almost ready to combine our data sets. Before we do, let's take some time to calculate variables that will be useful in our analysis. We've already discussed one such variable -- a column that totals up the SAT scores for the different sections of the exam. This will make it much easier to correlate scores with demographic factors because we'll be working with a single number, rather than three different ones.\n",
    "<br>\n",
    "<br>\n",
    "Before we can generate this column, we'll need to convert the SAT Math Avg. Score, SAT Critical Reading Avg. Score, and SAT Writing Avg. Score columns in the sat_results data set from the object (string) data type to a numeric data type. We can use the pandas.to_numeric() method for the conversion. If we don't convert the values, we won't be able to add the columns together.\n",
    "<br>\n",
    "<br>\n",
    "It's important to pass the keyword argument errors=\"coerce\" when we call pandas.to_numeric(), so that pandas treats any invalid strings it can't convert to numbers as missing values instead."
   ]
  },
  {
   "cell_type": "code",
   "execution_count": 7,
   "metadata": {},
   "outputs": [
    {
     "name": "stdout",
     "output_type": "stream",
     "text": [
      "0    1122.0\n",
      "1    1172.0\n",
      "2    1149.0\n",
      "3    1174.0\n",
      "4    1207.0\n",
      "Name: sat_score, dtype: float64\n"
     ]
    }
   ],
   "source": [
    "SatScores = ['SAT Math Avg. Score', 'SAT Critical Reading Avg. Score', 'SAT Writing Avg. Score']\n",
    "\n",
    "for x in SatScores: \n",
    "    data['sat_results'][x] = pd.to_numeric(data['sat_results'][x], errors='coerce')\n",
    "\n",
    "data['sat_results']['sat_score'] = data['sat_results'].loc[:,SatScores].sum(axis=1)\n",
    "print(data['sat_results']['sat_score'].head(5))"
   ]
  },
  {
   "cell_type": "markdown",
   "metadata": {},
   "source": [
    "Next, we'll want to parse the latitude and longitude coordinates for each school. This will enable us to map the schools and uncover any geographic patterns in the data. The coordinates are currently in the text field Location 1 in the hs_directory data set."
   ]
  },
  {
   "cell_type": "code",
   "execution_count": 8,
   "metadata": {},
   "outputs": [
    {
     "name": "stdout",
     "output_type": "stream",
     "text": [
      "0    8 21 Bay 25 Street\\nFar Rockaway, NY 11691\\n(4...\n",
      "1    2630 Benson Avenue\\nBrooklyn, NY 11214\\n(40.59...\n",
      "2    1014 Lafayette Avenue\\nBrooklyn, NY 11221\\n(40...\n",
      "3    1980 Lafayette Avenue\\nBronx, NY 10473\\n(40.82...\n",
      "4    100 Amsterdam Avenue\\nNew York, NY 10023\\n(40....\n",
      "Name: Location 1, dtype: object\n"
     ]
    }
   ],
   "source": [
    "print(data['hs_directory']['Location 1'].head())"
   ]
  },
  {
   "cell_type": "markdown",
   "metadata": {},
   "source": [
    "We want to extract the latitude, 40.8276026690005, and the longitude, -73.90447525699966. Taken together, latitude and longitude make up a pair of coordinates that allows us to pinpoint any location on Earth."
   ]
  },
  {
   "cell_type": "code",
   "execution_count": 9,
   "metadata": {},
   "outputs": [
    {
     "name": "stdout",
     "output_type": "stream",
     "text": [
      "      dbn                                        school_name    borough  \\\n",
      "0  27Q260          Frederick Douglass Academy VI High School     Queens   \n",
      "1  21K559        Life Academy High School for Film and Music   Brooklyn   \n",
      "2  16K393     Frederick Douglass Academy IV Secondary School   Brooklyn   \n",
      "3  08X305                               Pablo Neruda Academy      Bronx   \n",
      "4  03M485  Fiorello H. LaGuardia High School of Music & A...  Manhattan   \n",
      "\n",
      "  building_code  phone_number    fax_number  grade_span_min  grade_span_max  \\\n",
      "0          Q465  718-471-2154  718-471-2890             9.0              12   \n",
      "1          K400  718-333-7750  718-333-7775             9.0              12   \n",
      "2          K026  718-574-2820  718-574-2821             9.0              12   \n",
      "3          X450  718-824-1682  718-824-1663             9.0              12   \n",
      "4          M485  212-496-0700  212-724-5748             9.0              12   \n",
      "\n",
      "   expgrade_span_min  expgrade_span_max  ... priority10  \\\n",
      "0                NaN                NaN  ...        NaN   \n",
      "1                NaN                NaN  ...        NaN   \n",
      "2                NaN                NaN  ...        NaN   \n",
      "3                NaN                NaN  ...        NaN   \n",
      "4                NaN                NaN  ...        NaN   \n",
      "\n",
      "                                          Location 1 Community Board  \\\n",
      "0  8 21 Bay 25 Street\\nFar Rockaway, NY 11691\\n(4...            14.0   \n",
      "1  2630 Benson Avenue\\nBrooklyn, NY 11214\\n(40.59...            13.0   \n",
      "2  1014 Lafayette Avenue\\nBrooklyn, NY 11221\\n(40...             3.0   \n",
      "3  1980 Lafayette Avenue\\nBronx, NY 10473\\n(40.82...             9.0   \n",
      "4  100 Amsterdam Avenue\\nNew York, NY 10023\\n(40....             7.0   \n",
      "\n",
      "  Council District Census Tract        BIN           BBL  \\\n",
      "0             31.0     100802.0  4300730.0  4.157360e+09   \n",
      "1             47.0        306.0  3186454.0  3.068830e+09   \n",
      "2             36.0        291.0  3393805.0  3.016160e+09   \n",
      "3             18.0         16.0  2022205.0  2.036040e+09   \n",
      "4              6.0        151.0  1030341.0  1.011560e+09   \n",
      "\n",
      "                                                 NTA     DBN           lat  \n",
      "0  Far Rockaway-Bayswater                        ...  27Q260  40.601989336  \n",
      "1  Gravesend                                     ...  21K559  40.593593811  \n",
      "2  Stuyvesant Heights                            ...  16K393  40.692133704  \n",
      "3  Soundview-Castle Hill-Clason Point-Harding Par...  08X305  40.822303765  \n",
      "4  Lincoln Square                                ...  03M485  40.773670507  \n",
      "\n",
      "[5 rows x 66 columns]\n"
     ]
    }
   ],
   "source": [
    "import re\n",
    "\n",
    "def ReturnLoc(ele):\n",
    "    coords = re.findall(\"\\(.+\\)\", ele)\n",
    "    lat = coords[0].split(\",\")[0].replace(\"(\", \"\")\n",
    "    return lat\n",
    "\n",
    "data[\"hs_directory\"][\"lat\"] = data[\"hs_directory\"][\"Location 1\"].apply(ReturnLoc)\n",
    "print(data[\"hs_directory\"].head())"
   ]
  },
  {
   "cell_type": "markdown",
   "metadata": {},
   "source": [
    "On the last screen, we parsed the latitude from the Location 1 column. Now we'll just need to do the same for the longitude.\n",
    "<br>\n",
    "<br>\n",
    "Once we have both coordinates, we'll need to convert them to numeric values. We can use the pandas.to_numeric() function to convert them from strings to numbers."
   ]
  },
  {
   "cell_type": "code",
   "execution_count": 10,
   "metadata": {},
   "outputs": [
    {
     "name": "stdout",
     "output_type": "stream",
     "text": [
      "      dbn                                        school_name    borough  \\\n",
      "0  27Q260          Frederick Douglass Academy VI High School     Queens   \n",
      "1  21K559        Life Academy High School for Film and Music   Brooklyn   \n",
      "2  16K393     Frederick Douglass Academy IV Secondary School   Brooklyn   \n",
      "3  08X305                               Pablo Neruda Academy      Bronx   \n",
      "4  03M485  Fiorello H. LaGuardia High School of Music & A...  Manhattan   \n",
      "\n",
      "  building_code  phone_number    fax_number  grade_span_min  grade_span_max  \\\n",
      "0          Q465  718-471-2154  718-471-2890             9.0              12   \n",
      "1          K400  718-333-7750  718-333-7775             9.0              12   \n",
      "2          K026  718-574-2820  718-574-2821             9.0              12   \n",
      "3          X450  718-824-1682  718-824-1663             9.0              12   \n",
      "4          M485  212-496-0700  212-724-5748             9.0              12   \n",
      "\n",
      "   expgrade_span_min  expgrade_span_max  ...  \\\n",
      "0                NaN                NaN  ...   \n",
      "1                NaN                NaN  ...   \n",
      "2                NaN                NaN  ...   \n",
      "3                NaN                NaN  ...   \n",
      "4                NaN                NaN  ...   \n",
      "\n",
      "                                          Location 1 Community Board  \\\n",
      "0  8 21 Bay 25 Street\\nFar Rockaway, NY 11691\\n(4...            14.0   \n",
      "1  2630 Benson Avenue\\nBrooklyn, NY 11214\\n(40.59...            13.0   \n",
      "2  1014 Lafayette Avenue\\nBrooklyn, NY 11221\\n(40...             3.0   \n",
      "3  1980 Lafayette Avenue\\nBronx, NY 10473\\n(40.82...             9.0   \n",
      "4  100 Amsterdam Avenue\\nNew York, NY 10023\\n(40....             7.0   \n",
      "\n",
      "  Council District Census Tract        BIN           BBL  \\\n",
      "0             31.0     100802.0  4300730.0  4.157360e+09   \n",
      "1             47.0        306.0  3186454.0  3.068830e+09   \n",
      "2             36.0        291.0  3393805.0  3.016160e+09   \n",
      "3             18.0         16.0  2022205.0  2.036040e+09   \n",
      "4              6.0        151.0  1030341.0  1.011560e+09   \n",
      "\n",
      "                                                 NTA     DBN        lat  \\\n",
      "0  Far Rockaway-Bayswater                        ...  27Q260  40.601989   \n",
      "1  Gravesend                                     ...  21K559  40.593594   \n",
      "2  Stuyvesant Heights                            ...  16K393  40.692134   \n",
      "3  Soundview-Castle Hill-Clason Point-Harding Par...  08X305  40.822304   \n",
      "4  Lincoln Square                                ...  03M485  40.773671   \n",
      "\n",
      "         lon  \n",
      "0 -73.762834  \n",
      "1 -73.984729  \n",
      "2 -73.931503  \n",
      "3 -73.855961  \n",
      "4 -73.985269  \n",
      "\n",
      "[5 rows x 67 columns]\n"
     ]
    }
   ],
   "source": [
    "import re\n",
    "\n",
    "def find_lon(loc):\n",
    "    coords = re.findall(\"\\(.+\\)\", loc)\n",
    "    lon = coords[0].split(\",\")[1].replace(\")\", \"\").strip()\n",
    "    return lon\n",
    "\n",
    "data[\"hs_directory\"][\"lon\"] = data[\"hs_directory\"][\"Location 1\"].apply(find_lon)\n",
    "\n",
    "data[\"hs_directory\"][\"lat\"] = pd.to_numeric(data[\"hs_directory\"][\"lat\"], errors=\"coerce\")\n",
    "data[\"hs_directory\"][\"lon\"] = pd.to_numeric(data[\"hs_directory\"][\"lon\"], errors=\"coerce\")\n",
    "\n",
    "print(data[\"hs_directory\"].head())"
   ]
  },
  {
   "cell_type": "markdown",
   "metadata": {},
   "source": [
    "we began investigating possible relationships between SAT scores and demographic factors. In order to do this, we acquired several data sets about New York City public schools. We manipulated these data sets, and found that we could combine them all using the DBN column. All of the data sets are currently stored as keys in the data dictionary. Each individual data set is a pandas dataframe.\n",
    "<br>\n",
    "<br>\n",
    "In this mission, we'll clean the data a bit more, then combine it. Finally, we'll compute correlations and perform some analysis.\n",
    "<br>\n",
    "<br>\n",
    "**We'll need to condense these data sets so that each value in the DBN column is unique. If not, we'll run into issues when it comes time to combine the data sets.**\n",
    "<br>\n",
    "<br>\n",
    "While the main data set we want to analyze, sat_results, has unique DBN values for every high school in New York City, other data sets aren't as clean. A single row in the sat_results data set may match multiple rows in the class_size data set, for example. This situation will create problems, because we don't know which of the multiple entries in the class_size data set we should combine with the single matching entry in sat_results."
   ]
  },
  {
   "cell_type": "markdown",
   "metadata": {},
   "source": [
    "To resolve this issue, we'll condense the class_size, graduation, and demographics data sets so that each DBN is unique.\n",
    "<br>\n",
    "<br>\n",
    "The first data set that we'll condense is class_size. The first few rows of class_size look like this"
   ]
  },
  {
   "cell_type": "code",
   "execution_count": 11,
   "metadata": {},
   "outputs": [
    {
     "name": "stdout",
     "output_type": "stream",
     "text": [
      "   CSD BOROUGH SCHOOL CODE                SCHOOL NAME GRADE  PROGRAM TYPE  \\\n",
      "0    1       M        M015  P.S. 015 Roberto Clemente     0K       GEN ED   \n",
      "1    1       M        M015  P.S. 015 Roberto Clemente     0K          CTT   \n",
      "2    1       M        M015  P.S. 015 Roberto Clemente     01       GEN ED   \n",
      "3    1       M        M015  P.S. 015 Roberto Clemente     01          CTT   \n",
      "4    1       M        M015  P.S. 015 Roberto Clemente     02       GEN ED   \n",
      "\n",
      "  CORE SUBJECT (MS CORE and 9-12 ONLY) CORE COURSE (MS CORE and 9-12 ONLY)  \\\n",
      "0                                    -                                   -   \n",
      "1                                    -                                   -   \n",
      "2                                    -                                   -   \n",
      "3                                    -                                   -   \n",
      "4                                    -                                   -   \n",
      "\n",
      "  SERVICE CATEGORY(K-9* ONLY)  NUMBER OF STUDENTS / SEATS FILLED  \\\n",
      "0                           -                               19.0   \n",
      "1                           -                               21.0   \n",
      "2                           -                               17.0   \n",
      "3                           -                               17.0   \n",
      "4                           -                               15.0   \n",
      "\n",
      "   NUMBER OF SECTIONS  AVERAGE CLASS SIZE  SIZE OF SMALLEST CLASS  \\\n",
      "0                 1.0                19.0                    19.0   \n",
      "1                 1.0                21.0                    21.0   \n",
      "2                 1.0                17.0                    17.0   \n",
      "3                 1.0                17.0                    17.0   \n",
      "4                 1.0                15.0                    15.0   \n",
      "\n",
      "   SIZE OF LARGEST CLASS DATA SOURCE  SCHOOLWIDE PUPIL-TEACHER RATIO  \\\n",
      "0                   19.0         ATS                             NaN   \n",
      "1                   21.0         ATS                             NaN   \n",
      "2                   17.0         ATS                             NaN   \n",
      "3                   17.0         ATS                             NaN   \n",
      "4                   15.0         ATS                             NaN   \n",
      "\n",
      "  padded_csd     DBN  \n",
      "0         01  01M015  \n",
      "1         01  01M015  \n",
      "2         01  01M015  \n",
      "3         01  01M015  \n",
      "4         01  01M015  \n"
     ]
    }
   ],
   "source": [
    "print(data['class_size'].head())"
   ]
  },
  {
   "cell_type": "markdown",
   "metadata": {},
   "source": [
    "As you can see, the first few rows all pertain to the same school, which is why the DBN appears more than once. It looks like each school has multiple values for GRADE, PROGRAM TYPE, CORE SUBJECT (MS CORE and 9-12 ONLY), and CORE COURSE (MS CORE and 9-12 ONLY).\n",
    "<br>\n",
    "<br>\n",
    "If we look at the unique values for GRADE, we get the following:"
   ]
  },
  {
   "cell_type": "markdown",
   "metadata": {},
   "source": [
    "### Condensing the class size data set  "
   ]
  },
  {
   "cell_type": "markdown",
   "metadata": {},
   "source": [
    "- Create a new variable called class_size, and assign the value of data[\"class_size\"] to it.\n",
    "- Filter class_size so the GRADE  column only contains the value 09-12. Note that the name of the GRADE  column has a space at the end; you'll generate an error if you don't include it.\n",
    "- Filter class_size so that the PROGRAM TYPE column only contains the value GEN ED."
   ]
  },
  {
   "cell_type": "code",
   "execution_count": 12,
   "metadata": {},
   "outputs": [
    {
     "name": "stdout",
     "output_type": "stream",
     "text": [
      "     CSD BOROUGH SCHOOL CODE                                    SCHOOL NAME  \\\n",
      "225    1       M        M292  Henry Street School for International Studies   \n",
      "226    1       M        M292  Henry Street School for International Studies   \n",
      "227    1       M        M292  Henry Street School for International Studies   \n",
      "228    1       M        M292  Henry Street School for International Studies   \n",
      "229    1       M        M292  Henry Street School for International Studies   \n",
      "\n",
      "    GRADE  PROGRAM TYPE CORE SUBJECT (MS CORE and 9-12 ONLY)  \\\n",
      "225  09-12       GEN ED                              ENGLISH   \n",
      "226  09-12       GEN ED                              ENGLISH   \n",
      "227  09-12       GEN ED                              ENGLISH   \n",
      "228  09-12       GEN ED                              ENGLISH   \n",
      "229  09-12       GEN ED                                 MATH   \n",
      "\n",
      "    CORE COURSE (MS CORE and 9-12 ONLY) SERVICE CATEGORY(K-9* ONLY)  \\\n",
      "225                           English 9                           -   \n",
      "226                          English 10                           -   \n",
      "227                          English 11                           -   \n",
      "228                          English 12                           -   \n",
      "229                  Integrated Algebra                           -   \n",
      "\n",
      "     NUMBER OF STUDENTS / SEATS FILLED  NUMBER OF SECTIONS  \\\n",
      "225                               63.0                 3.0   \n",
      "226                               79.0                 3.0   \n",
      "227                               38.0                 2.0   \n",
      "228                               69.0                 3.0   \n",
      "229                               53.0                 3.0   \n",
      "\n",
      "     AVERAGE CLASS SIZE  SIZE OF SMALLEST CLASS  SIZE OF LARGEST CLASS  \\\n",
      "225                21.0                    19.0                   25.0   \n",
      "226                26.3                    24.0                   31.0   \n",
      "227                19.0                    16.0                   22.0   \n",
      "228                23.0                    13.0                   30.0   \n",
      "229                17.7                    16.0                   21.0   \n",
      "\n",
      "    DATA SOURCE  SCHOOLWIDE PUPIL-TEACHER RATIO padded_csd     DBN  \n",
      "225       STARS                             NaN         01  01M292  \n",
      "226       STARS                             NaN         01  01M292  \n",
      "227       STARS                             NaN         01  01M292  \n",
      "228       STARS                             NaN         01  01M292  \n",
      "229       STARS                             NaN         01  01M292  \n"
     ]
    }
   ],
   "source": [
    "class_size = data['class_size']\n",
    "class_size = class_size[(class_size['GRADE '] == '09-12') & (class_size['PROGRAM TYPE'] == 'GEN ED')]\n",
    "\n",
    "test_subset_before = class_size[(class_size['DBN'] == '01M292')]\n",
    "\n",
    "print(class_size[:5])"
   ]
  },
  {
   "cell_type": "markdown",
   "metadata": {},
   "source": [
    "As we saw when we displayed class_size on the last screen, DBN still isn't completely unique. This is due to the CORE COURSE (MS CORE and 9-12 ONLY) and CORE SUBJECT (MS CORE and 9-12 ONLY) columns.\n",
    "<br>\n",
    "<br>\n",
    "CORE COURSE (MS CORE and 9-12 ONLY) and CORE SUBJECT (MS CORE and 9-12 ONLY) seem to pertain to different kinds of classes. For example, here are the unique values for CORE SUBJECT (MS CORE and 9-12 ONLY):"
   ]
  },
  {
   "cell_type": "code",
   "execution_count": 13,
   "metadata": {},
   "outputs": [
    {
     "name": "stdout",
     "output_type": "stream",
     "text": [
      "['ENGLISH' 'MATH' 'SCIENCE' 'SOCIAL STUDIES']\n"
     ]
    }
   ],
   "source": [
    "print(class_size['CORE SUBJECT (MS CORE and 9-12 ONLY)'].unique())"
   ]
  },
  {
   "cell_type": "markdown",
   "metadata": {},
   "source": [
    "This column only seems to include certain subjects. We want our class size data to include every single class a school offers -- not just a subset of them. What we can do is take the average across all of the classes a school offers. This will give us unique DBN values, while also incorporating as much data as possible into the average.\n",
    "<br>\n",
    "<br>\n",
    "Fortunately, we can use the pandas.DataFrame.groupby() method to help us with this. The DataFrame.groupby() method will split a dataframe up into unique groups, based on a given column. We can then use the agg() method on the resulting pandas.core.groupby object to find the mean of each column.\n",
    "<br>\n",
    "<br>\n",
    "Examples will be as follows: "
   ]
  },
  {
   "cell_type": "code",
   "execution_count": 14,
   "metadata": {},
   "outputs": [
    {
     "name": "stdout",
     "output_type": "stream",
     "text": [
      "                                             AVERAGE CLASS SIZE\n",
      "DBN    CORE SUBJECT (MS CORE and 9-12 ONLY)                    \n",
      "01M292 ENGLISH                                        22.325000\n",
      "       MATH                                           23.133333\n",
      "       SCIENCE                                        22.840000\n",
      "       SOCIAL STUDIES                                 21.500000\n",
      "01M332 ENGLISH                                        22.000000\n",
      "...                                                         ...\n",
      "32K556 SOCIAL STUDIES                                 28.225000\n",
      "32K564 ENGLISH                                        25.500000\n",
      "       MATH                                           23.700000\n",
      "       SCIENCE                                        22.950000\n",
      "       SOCIAL STUDIES                                 27.075000\n",
      "\n",
      "[1948 rows x 1 columns]\n"
     ]
    }
   ],
   "source": [
    "import numpy as np\n",
    "values = class_size.groupby(['DBN','CORE SUBJECT (MS CORE and 9-12 ONLY)']).agg({'AVERAGE CLASS SIZE': np.mean})\n",
    "print(values)"
   ]
  },
  {
   "cell_type": "markdown",
   "metadata": {},
   "source": [
    "Now we find the average values for each column associated with each DBN in class_size and Reset the index to make DBN a column again"
   ]
  },
  {
   "cell_type": "code",
   "execution_count": 15,
   "metadata": {},
   "outputs": [
    {
     "name": "stdout",
     "output_type": "stream",
     "text": [
      "      DBN  CSD  NUMBER OF STUDENTS / SEATS FILLED  NUMBER OF SECTIONS  \\\n",
      "0  01M292    1                               88.0                 4.0   \n",
      "\n",
      "   AVERAGE CLASS SIZE  SIZE OF SMALLEST CLASS  SIZE OF LARGEST CLASS  \\\n",
      "0           22.564286                    18.5              26.571429   \n",
      "\n",
      "   SCHOOLWIDE PUPIL-TEACHER RATIO  \n",
      "0                             NaN  \n"
     ]
    }
   ],
   "source": [
    "class_size = class_size.groupby(['DBN']).agg(np.mean)\n",
    "class_size.reset_index(inplace=True)\n",
    "data[\"class_size\"] = class_size\n",
    "\n",
    "test_subset_after = data[\"class_size\"][(class_size['DBN'] == '01M292')]\n",
    "print(test_subset_after.head())"
   ]
  },
  {
   "cell_type": "markdown",
   "metadata": {},
   "source": [
    "Now that we've finished condensing class_size, let's condense demographics."
   ]
  },
  {
   "cell_type": "code",
   "execution_count": 16,
   "metadata": {},
   "outputs": [
    {
     "name": "stdout",
     "output_type": "stream",
     "text": [
      "      DBN                       Name  schoolyear fl_percent  frl_percent  \\\n",
      "0  01M015  P.S. 015 ROBERTO CLEMENTE    20052006       89.4          NaN   \n",
      "1  01M015  P.S. 015 ROBERTO CLEMENTE    20062007       89.4          NaN   \n",
      "2  01M015  P.S. 015 ROBERTO CLEMENTE    20072008       89.4          NaN   \n",
      "3  01M015  P.S. 015 ROBERTO CLEMENTE    20082009       89.4          NaN   \n",
      "4  01M015  P.S. 015 ROBERTO CLEMENTE    20092010                    96.5   \n",
      "\n",
      "   total_enrollment prek   k grade1 grade2  ... black_num black_per  \\\n",
      "0               281   15  36     40     33  ...        74      26.3   \n",
      "1               243   15  29     39     38  ...        68      28.0   \n",
      "2               261   18  43     39     36  ...        77      29.5   \n",
      "3               252   17  37     44     32  ...        75      29.8   \n",
      "4               208   16  40     28     32  ...        67      32.2   \n",
      "\n",
      "  hispanic_num hispanic_per white_num white_per male_num male_per female_num  \\\n",
      "0          189         67.3         5       1.8    158.0     56.2      123.0   \n",
      "1          153         63.0         4       1.6    140.0     57.6      103.0   \n",
      "2          157         60.2         7       2.7    143.0     54.8      118.0   \n",
      "3          149         59.1         7       2.8    149.0     59.1      103.0   \n",
      "4          118         56.7         6       2.9    124.0     59.6       84.0   \n",
      "\n",
      "  female_per  \n",
      "0       43.8  \n",
      "1       42.4  \n",
      "2       45.2  \n",
      "3       40.9  \n",
      "4       40.4  \n",
      "\n",
      "[5 rows x 38 columns]\n"
     ]
    }
   ],
   "source": [
    "print(data['demographics'].head())"
   ]
  },
  {
   "cell_type": "markdown",
   "metadata": {},
   "source": [
    "In this case, the only column that prevents a given DBN from being unique is schoolyear. We only want to select rows where schoolyear is 20112012. This will give us the most recent year of data, and also match our SAT results data."
   ]
  },
  {
   "cell_type": "code",
   "execution_count": 17,
   "metadata": {},
   "outputs": [
    {
     "name": "stdout",
     "output_type": "stream",
     "text": [
      "       DBN                                              Name  schoolyear  \\\n",
      "6   01M015  P.S. 015 ROBERTO CLEMENTE                           20112012   \n",
      "13  01M019  P.S. 019 ASHER LEVY                                 20112012   \n",
      "20  01M020  PS 020 ANNA SILVER                                  20112012   \n",
      "27  01M034  PS 034 FRANKLIN D ROOSEVELT                         20112012   \n",
      "35  01M063  PS 063 WILLIAM MCKINLEY                             20112012   \n",
      "\n",
      "   fl_percent  frl_percent  total_enrollment prek    k grade1 grade2  ...  \\\n",
      "6         NaN         89.4               189   13   31     35     28  ...   \n",
      "13        NaN         61.5               328   32   46     52     54  ...   \n",
      "20        NaN         92.5               626   52  102    121     87  ...   \n",
      "27        NaN         99.7               401   14   34     38     36  ...   \n",
      "35        NaN         78.9               176   18   20     30     21  ...   \n",
      "\n",
      "   black_num black_per hispanic_num hispanic_per white_num white_per male_num  \\\n",
      "6         63      33.3          109         57.7         4       2.1     97.0   \n",
      "13        81      24.7          158         48.2        28       8.5    147.0   \n",
      "20        55       8.8          357         57.0        16       2.6    330.0   \n",
      "27        90      22.4          275         68.6         8       2.0    204.0   \n",
      "35        41      23.3          110         62.5        15       8.5     97.0   \n",
      "\n",
      "   male_per female_num female_per  \n",
      "6      51.3       92.0       48.7  \n",
      "13     44.8      181.0       55.2  \n",
      "20     52.7      296.0       47.3  \n",
      "27     50.9      197.0       49.1  \n",
      "35     55.1       79.0       44.9  \n",
      "\n",
      "[5 rows x 38 columns]\n"
     ]
    }
   ],
   "source": [
    "selectdata = data['demographics']\n",
    "data[\"demographics\"] = selectdata[(selectdata['schoolyear'] == 20112012)]\n",
    "print(data[\"demographics\"].head())"
   ]
  },
  {
   "cell_type": "markdown",
   "metadata": {},
   "source": [
    "Finally, we'll need to condense the graduation data set"
   ]
  },
  {
   "cell_type": "code",
   "execution_count": 18,
   "metadata": {},
   "outputs": [
    {
     "name": "stdout",
     "output_type": "stream",
     "text": [
      "    Demographic     DBN                            School Name    Cohort  \\\n",
      "0  Total Cohort  01M292  HENRY STREET SCHOOL FOR INTERNATIONAL      2003   \n",
      "1  Total Cohort  01M292  HENRY STREET SCHOOL FOR INTERNATIONAL      2004   \n",
      "2  Total Cohort  01M292  HENRY STREET SCHOOL FOR INTERNATIONAL      2005   \n",
      "3  Total Cohort  01M292  HENRY STREET SCHOOL FOR INTERNATIONAL      2006   \n",
      "4  Total Cohort  01M292  HENRY STREET SCHOOL FOR INTERNATIONAL  2006 Aug   \n",
      "\n",
      "   Total Cohort Total Grads - n  Total Grads - % of cohort Total Regents - n  \\\n",
      "0             5               s                        NaN                 s   \n",
      "1            55              37                       67.3                17   \n",
      "2            64              43                       67.2                27   \n",
      "3            78              43                       55.1                36   \n",
      "4            78              44                       56.4                37   \n",
      "\n",
      "   Total Regents - % of cohort  Total Regents - % of grads  ...  \\\n",
      "0                          NaN                         NaN  ...   \n",
      "1                         30.9                        45.9  ...   \n",
      "2                         42.2                        62.8  ...   \n",
      "3                         46.2                        83.7  ...   \n",
      "4                         47.4                        84.1  ...   \n",
      "\n",
      "  Regents w/o Advanced - n  Regents w/o Advanced - % of cohort  \\\n",
      "0                        s                                 NaN   \n",
      "1                       17                                30.9   \n",
      "2                       27                                42.2   \n",
      "3                       36                                46.2   \n",
      "4                       37                                47.4   \n",
      "\n",
      "   Regents w/o Advanced - % of grads Local - n  Local - % of cohort  \\\n",
      "0                                NaN         s                  NaN   \n",
      "1                               45.9        20                 36.4   \n",
      "2                               62.8        16                 25.0   \n",
      "3                               83.7         7                  9.0   \n",
      "4                               84.1         7                  9.0   \n",
      "\n",
      "   Local - % of grads Still Enrolled - n  Still Enrolled - % of cohort  \\\n",
      "0                 NaN                  s                           NaN   \n",
      "1                54.1                 15                          27.3   \n",
      "2                37.2                  9                          14.1   \n",
      "3                16.3                 16                          20.5   \n",
      "4                15.9                 15                          19.2   \n",
      "\n",
      "   Dropped Out - n Dropped Out - % of cohort  \n",
      "0                s                       NaN  \n",
      "1                3                       5.5  \n",
      "2                9                      14.1  \n",
      "3               11                      14.1  \n",
      "4               11                      14.1  \n",
      "\n",
      "[5 rows x 23 columns]\n"
     ]
    }
   ],
   "source": [
    "print(data['graduation'].head())"
   ]
  },
  {
   "cell_type": "markdown",
   "metadata": {},
   "source": [
    "The Demographic and Cohort columns are what prevent DBN from being unique in the graduation data. A Cohort appears to refer to the year the data represents, and the Demographic appears to refer to a specific demographic group. \n",
    "<br>\n",
    "<br>\n",
    "**In this case, we want to pick data from the most recent Cohort available, which is 2006.** \n",
    "<br>\n",
    "<br>\n",
    "We also want data from the full cohort, **so we'll only pick rows where Demographic is Total Cohort.**"
   ]
  },
  {
   "cell_type": "code",
   "execution_count": 19,
   "metadata": {},
   "outputs": [
    {
     "name": "stdout",
     "output_type": "stream",
     "text": [
      "     Demographic     DBN                            School Name Cohort  \\\n",
      "3   Total Cohort  01M292  HENRY STREET SCHOOL FOR INTERNATIONAL   2006   \n",
      "10  Total Cohort  01M448    UNIVERSITY NEIGHBORHOOD HIGH SCHOOL   2006   \n",
      "17  Total Cohort  01M450             EAST SIDE COMMUNITY SCHOOL   2006   \n",
      "24  Total Cohort  01M509                MARTA VALLE HIGH SCHOOL   2006   \n",
      "31  Total Cohort  01M515  LOWER EAST SIDE PREPARATORY HIGH SCHO   2006   \n",
      "\n",
      "    Total Cohort Total Grads - n  Total Grads - % of cohort Total Regents - n  \\\n",
      "3             78              43                       55.1                36   \n",
      "10           124              53                       42.7                42   \n",
      "17            90              70                       77.8                67   \n",
      "24            84              47                       56.0                40   \n",
      "31           193             105                       54.4                91   \n",
      "\n",
      "    Total Regents - % of cohort  Total Regents - % of grads  ...  \\\n",
      "3                          46.2                        83.7  ...   \n",
      "10                         33.9                        79.2  ...   \n",
      "17                         74.4                        95.7  ...   \n",
      "24                         47.6                        85.1  ...   \n",
      "31                         47.2                        86.7  ...   \n",
      "\n",
      "   Regents w/o Advanced - n  Regents w/o Advanced - % of cohort  \\\n",
      "3                        36                                46.2   \n",
      "10                       34                                27.4   \n",
      "17                       67                                74.4   \n",
      "24                       23                                27.4   \n",
      "31                       22                                11.4   \n",
      "\n",
      "    Regents w/o Advanced - % of grads Local - n  Local - % of cohort  \\\n",
      "3                                83.7         7                  9.0   \n",
      "10                               64.2        11                  8.9   \n",
      "17                               95.7         3                  3.3   \n",
      "24                               48.9         7                  8.3   \n",
      "31                               21.0        14                  7.3   \n",
      "\n",
      "    Local - % of grads Still Enrolled - n  Still Enrolled - % of cohort  \\\n",
      "3                 16.3                 16                          20.5   \n",
      "10                20.8                 46                          37.1   \n",
      "17                 4.3                 15                          16.7   \n",
      "24                14.9                 25                          29.8   \n",
      "31                13.3                 53                          27.5   \n",
      "\n",
      "    Dropped Out - n Dropped Out - % of cohort  \n",
      "3                11                      14.1  \n",
      "10               20                      16.1  \n",
      "17                5                       5.6  \n",
      "24                5                       6.0  \n",
      "31               35                      18.1  \n",
      "\n",
      "[5 rows x 23 columns]\n"
     ]
    }
   ],
   "source": [
    "selectdata = data['graduation']\n",
    "data['graduation'] = selectdata[(selectdata['Cohort'] == '2006') & (selectdata['Demographic'] == 'Total Cohort')]\n",
    "print(data['graduation'].head())"
   ]
  },
  {
   "cell_type": "markdown",
   "metadata": {},
   "source": [
    "We're almost ready to combine all of the data sets. The only remaining thing to do is convert the Advanced Placement (AP) test scores from strings to numeric values. High school students take the AP exams before applying to college. There are several AP exams, each corresponding to a school subject.\n",
    "<br>\n",
    "<br>\n",
    "AP exams have a 1 to 5 scale; 3 or higher is a passing score. Many high school students take AP exams -- particularly those who attend academically challenging institutions. AP exams are much more rare in schools that lack funding or academic rigor.\n",
    "<br>\n",
    "<br>\n",
    "**It will be interesting to find out whether AP exam scores are correlated with SAT scores across high schools. To determine this, we'll need to convert the AP exam scores in the ap_2010 data set to numeric values first.**"
   ]
  },
  {
   "cell_type": "code",
   "execution_count": 20,
   "metadata": {},
   "outputs": [
    {
     "name": "stdout",
     "output_type": "stream",
     "text": [
      "      DBN                             SchoolName  AP Test Takers   \\\n",
      "0  01M448           UNIVERSITY NEIGHBORHOOD H.S.             39.0   \n",
      "1  01M450                 EAST SIDE COMMUNITY HS             19.0   \n",
      "2  01M515                    LOWER EASTSIDE PREP             24.0   \n",
      "3  01M539         NEW EXPLORATIONS SCI,TECH,MATH            255.0   \n",
      "4  02M296  High School of Hospitality Management              NaN   \n",
      "\n",
      "   Total Exams Taken  Number of Exams with scores 3 4 or 5  \n",
      "0               49.0                                  10.0  \n",
      "1               21.0                                   NaN  \n",
      "2               26.0                                  24.0  \n",
      "3              377.0                                 191.0  \n",
      "4                NaN                                   NaN  \n"
     ]
    }
   ],
   "source": [
    "print(data['ap_2010'].head())"
   ]
  },
  {
   "cell_type": "markdown",
   "metadata": {},
   "source": [
    "There are three columns we'll need to convert:\n",
    "- AP Test Takers\n",
    "- Total Exams Taken\n",
    "- Number of Exams with scores 3 4 or 5"
   ]
  },
  {
   "cell_type": "code",
   "execution_count": 21,
   "metadata": {},
   "outputs": [
    {
     "name": "stdout",
     "output_type": "stream",
     "text": [
      "DBN                                      object\n",
      "SchoolName                               object\n",
      "AP Test Takers                          float64\n",
      "Total Exams Taken                       float64\n",
      "Number of Exams with scores 3 4 or 5    float64\n",
      "dtype: object\n"
     ]
    }
   ],
   "source": [
    "cols = ['AP Test Takers ', 'Total Exams Taken', 'Number of Exams with scores 3 4 or 5']\n",
    "\n",
    "for i in cols:\n",
    "    data['ap_2010'][i] = pd.to_numeric(data['ap_2010'][i], errors='coerce')\n",
    "\n",
    "print(data['ap_2010'].dtypes) "
   ]
  },
  {
   "cell_type": "markdown",
   "metadata": {},
   "source": [
    "We'll be using the DBN column to identify matching rows across data sets. In other words, the values in that column will help us know which row from the first data set to combine with which row in the second data set.\n",
    "<br>\n",
    "<br>\n",
    "There may be DBN values that exist in one data set but not in another. This is partly because the data is from different years. Each data set also has inconsistencies in terms of how it was gathered. Human error (and other types of errors) may also play a role. Therefore, we may not find matches for the DBN values in sat_results in all of the other data sets, and other data sets may have DBN values that don't exist in sat_results\n",
    "<br>\n",
    "<br>\n",
    "**We'll merge two data sets at a time. For example, we'll merge sat_results and hs_directory, then merge the result with ap_2010, then merge the result of that with class_size.** We'll continue combining data sets in this way until we've merged all of them. Afterwards, we'll have roughly the same number of rows, but each row will have columns from all of the data sets.\n",
    "<br>\n",
    "<br>\n",
    "Some data sets have DBN values that are almost identical to those in sat_results. Those data sets also have information we need to keep. Most of our analysis would be impossible if a significant number of rows was missing from demographics, for example. Therefore, we'll do an inner join to avoid missing data in these columns."
   ]
  },
  {
   "cell_type": "markdown",
   "metadata": {},
   "source": [
    "Both the ap_2010 and the graduation data sets have many missing DBN values, so we'll use a left join when we merge the sat_results data set with them. Because we're using a left join, our final dataframe will have all of the same DBN values as the original sat_results dataframe.\n",
    "<br>\n",
    "<br>\n",
    "First, we'll assign data[\"sat_results\"] to the variable combined. Then, we'll merge all of the other dataframes with combined. When we're finished, combined will have all of the columns from all of the data sets."
   ]
  },
  {
   "cell_type": "code",
   "execution_count": 22,
   "metadata": {},
   "outputs": [
    {
     "name": "stdout",
     "output_type": "stream",
     "text": [
      "(479, 33)\n"
     ]
    }
   ],
   "source": [
    "combined = data[\"sat_results\"]\n",
    "combined = combined.merge(data['ap_2010'], on=\"DBN\", how='left')\n",
    "combined = combined.merge(data['graduation'], on=\"DBN\", how='left')\n",
    "print(combined.shape)"
   ]
  },
  {
   "cell_type": "markdown",
   "metadata": {},
   "source": [
    "Now that we've performed the left joins, we still have to merge class_size, demographics, survey, and hs_directory into combined. \n",
    "<br>\n",
    "<br>\n",
    "**Because these files contain information that's more valuable to our analysis and also have fewer missing DBN values, we'll use the inner join type.**"
   ]
  },
  {
   "cell_type": "code",
   "execution_count": 23,
   "metadata": {},
   "outputs": [
    {
     "name": "stdout",
     "output_type": "stream",
     "text": [
      "(363, 165)\n"
     ]
    }
   ],
   "source": [
    "combined = combined.merge(data['class_size'], on=\"DBN\", how='inner')\n",
    "combined = combined.merge(data['demographics'], on='DBN', how='inner')\n",
    "combined = combined.merge(data['survey'], on='DBN', how='inner')\n",
    "combined = combined.merge(data['hs_directory'], on='DBN', how='inner')\n",
    "print(combined.shape)"
   ]
  },
  {
   "cell_type": "markdown",
   "metadata": {},
   "source": [
    "we now have many columns with null (NaN) values. This is because we chose to do left joins, where some columns may not have had data. The data set also had some missing values to begin with. If we hadn't performed a left join, all of the rows with missing data would have been lost in the merge process, which wouldn't have left us with many high schools in our data set.\n",
    "<br>\n",
    "<br>\n"
   ]
  },
  {
   "cell_type": "markdown",
   "metadata": {},
   "source": [
    "We can fill in missing data in pandas using the pandas.DataFrame.fillna() method. This method will replace any missing values in a dataframe with the values we specify. We can compute the mean of every column using the pandas.DataFrame.mean() method. If we pass the results of the df.mean() method into the df.fillna() method, pandas will fill in the missing values in each column with the mean of that column.\n",
    "<br>\n",
    "<br>\n",
    "Here's an example of how we would accomplish this:"
   ]
  },
  {
   "cell_type": "code",
   "execution_count": 24,
   "metadata": {},
   "outputs": [
    {
     "ename": "NameError",
     "evalue": "name 'df' is not defined",
     "output_type": "error",
     "traceback": [
      "\u001b[1;31m---------------------------------------------------------------------------\u001b[0m",
      "\u001b[1;31mNameError\u001b[0m                                 Traceback (most recent call last)",
      "\u001b[1;32m<ipython-input-24-5945bf1d720c>\u001b[0m in \u001b[0;36m<module>\u001b[1;34m\u001b[0m\n\u001b[1;32m----> 1\u001b[1;33m \u001b[0mmeans\u001b[0m \u001b[1;33m=\u001b[0m \u001b[0mdf\u001b[0m\u001b[1;33m.\u001b[0m\u001b[0mmean\u001b[0m\u001b[1;33m(\u001b[0m\u001b[1;33m)\u001b[0m\u001b[1;33m\u001b[0m\u001b[1;33m\u001b[0m\u001b[0m\n\u001b[0m\u001b[0;32m      2\u001b[0m \u001b[0mdf\u001b[0m \u001b[1;33m=\u001b[0m \u001b[0mdf\u001b[0m\u001b[1;33m.\u001b[0m\u001b[0mfillna\u001b[0m\u001b[1;33m(\u001b[0m\u001b[0mmeans\u001b[0m\u001b[1;33m)\u001b[0m\u001b[1;33m\u001b[0m\u001b[1;33m\u001b[0m\u001b[0m\n",
      "\u001b[1;31mNameError\u001b[0m: name 'df' is not defined"
     ]
    }
   ],
   "source": [
    "means = df.mean()\n",
    "df = df.fillna(means)"
   ]
  },
  {
   "cell_type": "code",
   "execution_count": 25,
   "metadata": {},
   "outputs": [
    {
     "name": "stdout",
     "output_type": "stream",
     "text": [
      "      DBN                                        SCHOOL NAME  \\\n",
      "0  01M292      HENRY STREET SCHOOL FOR INTERNATIONAL STUDIES   \n",
      "1  01M448                UNIVERSITY NEIGHBORHOOD HIGH SCHOOL   \n",
      "2  01M450                         EAST SIDE COMMUNITY SCHOOL   \n",
      "3  01M509                            MARTA VALLE HIGH SCHOOL   \n",
      "4  01M539  NEW EXPLORATIONS INTO SCIENCE, TECHNOLOGY AND ...   \n",
      "\n",
      "  Num of SAT Test Takers  SAT Critical Reading Avg. Score  \\\n",
      "0                     29                            355.0   \n",
      "1                     91                            383.0   \n",
      "2                     70                            377.0   \n",
      "3                     44                            390.0   \n",
      "4                    159                            522.0   \n",
      "\n",
      "   SAT Math Avg. Score  SAT Writing Avg. Score  sat_score  \\\n",
      "0                404.0                   363.0     1122.0   \n",
      "1                423.0                   366.0     1172.0   \n",
      "2                402.0                   370.0     1149.0   \n",
      "3                433.0                   384.0     1207.0   \n",
      "4                574.0                   525.0     1621.0   \n",
      "\n",
      "                       SchoolName  AP Test Takers   Total Exams Taken  ...  \\\n",
      "0                             NaN              NaN                NaN  ...   \n",
      "1    UNIVERSITY NEIGHBORHOOD H.S.             39.0               49.0  ...   \n",
      "2          EAST SIDE COMMUNITY HS             19.0               21.0  ...   \n",
      "3                             NaN              NaN                NaN  ...   \n",
      "4  NEW EXPLORATIONS SCI,TECH,MATH            255.0              377.0  ...   \n",
      "\n",
      "   priority10                                         Location 1  \\\n",
      "0         NaN  220 Henry Street\\nNew York, NY 10002\\n(40.7137...   \n",
      "1         NaN  200 Monroe Street\\nNew York, NY 10002\\n(40.712...   \n",
      "2         NaN  420 East 12 Street\\nNew York, NY 10009\\n(40.72...   \n",
      "3         NaN  145 Stanton Street\\nNew York, NY 10002\\n(40.72...   \n",
      "4         NaN  111 Columbia Street\\nNew York, NY 10002\\n(40.7...   \n",
      "\n",
      "  Community Board Council District  Census Tract        BIN           BBL  \\\n",
      "0             3.0              1.0         201.0  1003223.0  1.002690e+09   \n",
      "1             3.0              1.0         202.0  1003214.0  1.002590e+09   \n",
      "2             3.0              2.0          34.0  1005974.0  1.004390e+09   \n",
      "3             3.0              1.0        3001.0  1004323.0  1.003540e+09   \n",
      "4             3.0              2.0        2201.0  1004070.0  1.003350e+09   \n",
      "\n",
      "                                                 NTA        lat        lon  \n",
      "0  Lower East Side                               ...  40.713764 -73.985260  \n",
      "1  Lower East Side                               ...  40.712332 -73.984797  \n",
      "2  East Village                                  ...  40.729783 -73.983041  \n",
      "3  Chinatown                                     ...  40.720569 -73.985673  \n",
      "4  Lower East Side                               ...  40.718725 -73.979426  \n",
      "\n",
      "[5 rows x 165 columns]\n"
     ]
    }
   ],
   "source": [
    "mean_value = combined.mean()\n",
    "combined.fillna(mean_value)\n",
    "combined.fillna(0)\n",
    "\n",
    "print(combined.head(5))"
   ]
  },
  {
   "cell_type": "markdown",
   "metadata": {},
   "source": [
    "We now have a clean data set on which we can base our analysis. Mapping the statistics out on a school district level might be an interesting way to analyze them. Adding a column to the data set that specifies the school district will help us accomplish this.\n",
    "<br>\n",
    "<br>\n",
    "The school district is just the first two characters of the DBN. We can apply a function over the DBN column of combined that pulls out the first two letters.\n",
    "<br>\n",
    "<br>\n",
    "For example, we can use indexing to extract the first few characters of a string, like this:"
   ]
  },
  {
   "cell_type": "code",
   "execution_count": 26,
   "metadata": {},
   "outputs": [
    {
     "name": "stdout",
     "output_type": "stream",
     "text": [
      "Si\n"
     ]
    }
   ],
   "source": [
    "name = \"Sinbad\"\n",
    "print(name[0:2])"
   ]
  },
  {
   "cell_type": "code",
   "execution_count": 27,
   "metadata": {},
   "outputs": [
    {
     "name": "stdout",
     "output_type": "stream",
     "text": [
      "0    01\n",
      "1    01\n",
      "2    01\n",
      "3    01\n",
      "4    01\n",
      "Name: school_dist, dtype: object\n"
     ]
    }
   ],
   "source": [
    "def get_first_two_chars(dbn):\n",
    "    return dbn[0:2]\n",
    "\n",
    "combined[\"school_dist\"] = combined[\"DBN\"].apply(get_first_two_chars)\n",
    "print(combined[\"school_dist\"].head())"
   ]
  },
  {
   "cell_type": "markdown",
   "metadata": {},
   "source": [
    "## Analzing and Visualizing the Data "
   ]
  },
  {
   "cell_type": "markdown",
   "metadata": {},
   "source": [
    "Correlations tell us how closely related two columns are. We'll be using the r value, also called Pearson's correlation coefficient, which measures how closely two sequences of numbers are correlated.\n",
    "<br>\n",
    "<br>\n",
    "An r value falls between -1 and 1. The value tells us whether two columns are positively correlated, not correlated, or negatively correlated. The closer to 1 the r value is, the stronger the positive correlation between the two columns. The closer to -1 the r value is, the stronger the negative correlation (i.e., the more \"opposite\" the columns are). The closer to 0, the weaker the correlation. To learn more about r values, see the statistics course.\n",
    "<br>\n",
    "<br>\n",
    "Use the pandas.DataFrame.corr() method on the combined dataframe to find all possible correlations."
   ]
  },
  {
   "cell_type": "code",
   "execution_count": 28,
   "metadata": {},
   "outputs": [
    {
     "name": "stdout",
     "output_type": "stream",
     "text": [
      "SAT Critical Reading Avg. Score    0.986820\n",
      "SAT Math Avg. Score                0.972643\n",
      "SAT Writing Avg. Score             0.987771\n",
      "sat_score                          1.000000\n",
      "AP Test Takers                     0.577330\n",
      "                                     ...   \n",
      "Census Tract                       0.060722\n",
      "BIN                                0.084724\n",
      "BBL                                0.089557\n",
      "lat                               -0.080811\n",
      "lon                               -0.048274\n",
      "Name: sat_score, Length: 81, dtype: float64\n"
     ]
    }
   ],
   "source": [
    "correlations = combined.corr()\n",
    "correlations = correlations['sat_score']\n",
    "print(correlations)"
   ]
  },
  {
   "cell_type": "markdown",
   "metadata": {},
   "source": [
    "Here are some correlations that we can observe:\n",
    "- Total_enrollment has a strong positive correlation with sat_score. This is surprising because we'd expect smaller schools where students receive more attention to have higher scores. However, it looks like the opposite is true -- larger schools tend to do better on the SAT.\n",
    "- Both the percentage of females (female_per) and number of females (female_num) at a school correlate positively with SAT score, whereas the percentage of males (male_per) and the number of males (male_num) correlate negatively. This could indicate that women do better on the SAT than men.\n",
    "- Teacher and student ratings of school safety (saf_t_11, and saf_s_11) correlate with sat_score.\n",
    "- Student ratings of school academic standards (aca_s_11) correlate with sat_score, but this does not hold for ratings from teachers and parents (aca_p_11 and aca_t_11)\n",
    "    "
   ]
  },
  {
   "cell_type": "markdown",
   "metadata": {},
   "source": [
    "To have a better view, we can create scatter plots to see the relationships between different factors: "
   ]
  },
  {
   "cell_type": "code",
   "execution_count": 29,
   "metadata": {},
   "outputs": [],
   "source": [
    "import matplotlib.pyplot as plt\n",
    "\n",
    "combined.plot.scatter(x='total_enrollment', y='sat_score');"
   ]
  },
  {
   "cell_type": "markdown",
   "metadata": {},
   "source": [
    "Judging from the plot we just created, it doesn't appear that there's an extremely strong correlation between sat_score and total_enrollment. If there was a very strong correlation, we'd expect all of the points to line up. Instead, there's a large cluster of schools, and then a few others going off in three different directions.\n",
    "<br>\n",
    "<br>\n",
    "However, there's an interesting cluster of points at the bottom left where total_enrollment and sat_score are both low. This cluster may be what's making the r value so high. It's worth extracting the names of the schools in this cluster so we can research them further."
   ]
  },
  {
   "cell_type": "code",
   "execution_count": 30,
   "metadata": {},
   "outputs": [
    {
     "name": "stdout",
     "output_type": "stream",
     "text": [
      "18                                       NaN\n",
      "19                                       NaN\n",
      "20                                       NaN\n",
      "31                                       NaN\n",
      "32                                       NaN\n",
      "33                                       NaN\n",
      "56                                       NaN\n",
      "57                                       NaN\n",
      "59                                       NaN\n",
      "74                                       NaN\n",
      "83                                       NaN\n",
      "91       INTERNATIONAL COMMUNITY HIGH SCHOOL\n",
      "103                                      NaN\n",
      "109                                      NaN\n",
      "111                                      NaN\n",
      "123                                      NaN\n",
      "125                                      NaN\n",
      "126          BRONX INTERNATIONAL HIGH SCHOOL\n",
      "139    KINGSBRIDGE INTERNATIONAL HIGH SCHOOL\n",
      "141    INTERNATIONAL SCHOOL FOR LIBERAL ARTS\n",
      "176                                      NaN\n",
      "177                                      NaN\n",
      "178                                      NaN\n",
      "179            HIGH SCHOOL OF WORLD CULTURES\n",
      "188       BROOKLYN INTERNATIONAL HIGH SCHOOL\n",
      "191                                      NaN\n",
      "197                      FOUNDATIONS ACADEMY\n",
      "218                                      NaN\n",
      "222                                      NaN\n",
      "225    INTERNATIONAL HIGH SCHOOL AT PROSPECT\n",
      "237               IT TAKES A VILLAGE ACADEMY\n",
      "253                MULTICULTURAL HIGH SCHOOL\n",
      "264                                      NaN\n",
      "269                                      NaN\n",
      "286    PAN AMERICAN INTERNATIONAL HIGH SCHOO\n",
      "319                                      NaN\n",
      "321                                      NaN\n",
      "326                                      NaN\n",
      "335                                      NaN\n",
      "338                                      NaN\n",
      "Name: School Name, dtype: object\n"
     ]
    }
   ],
   "source": [
    "low_enrollment = combined[(combined['total_enrollment'] < 1000) & (combined['sat_score'] < 1000)]\n",
    "print(low_enrollment['School Name'])"
   ]
  },
  {
   "cell_type": "markdown",
   "metadata": {},
   "source": [
    "Our research on the last screen revealed that most of the high schools with low total enrollment and low SAT scores have high percentages of English language learners. This indicates that it's actually ell_percent that correlates strongly with sat_score, rather than total_enrollment. To explore this relationship further, let's plot out ell_percent vs sat_score."
   ]
  },
  {
   "cell_type": "code",
   "execution_count": 31,
   "metadata": {},
   "outputs": [
    {
     "data": {
      "text/plain": [
       "<matplotlib.axes._subplots.AxesSubplot at 0x250b1403c88>"
      ]
     },
     "execution_count": 31,
     "metadata": {},
     "output_type": "execute_result"
    },
    {
     "data": {
      "image/png": "[encoded data removed]",
      "text/plain": [
       "<Figure size 432x288 with 1 Axes>"
      ]
     },
     "metadata": {
      "needs_background": "light"
     },
     "output_type": "display_data"
    }
   ],
   "source": [
    "combined.plot.scatter(x='ell_percent', y='sat_score')"
   ]
  },
  {
   "cell_type": "markdown",
   "metadata": {},
   "source": [
    "It looks like ell_percent correlates with sat_score more strongly, because the scatterplot is more linear. However, there's still the cluster of schools that have very high ell_percent values and low sat_score values. This cluster represents the same group of international high schools we investigated earlier.\n",
    "<br>\n",
    "<br>\n",
    "In order to explore this relationship, we'll want to map out ell_percent by school district. The map will show us which areas of the city have a lot of English language learners.\n",
    "<br>\n",
    "<br>\n",
    "We learned how to use the Basemap package to create maps in the Visualizing Geographic Data mission. The Basemap package enables us to create high-quality maps, plot points over them, and then draw coastlines and other features.\n",
    "<br>\n",
    "<br>\n",
    "We extracted the coordinates for all of the schools earlier, and stored them in the lat and lon columns. The coordinates will enable us to plot all of the schools on a map of New York City."
   ]
  },
  {
   "cell_type": "code",
   "execution_count": null,
   "metadata": {},
   "outputs": [],
   "source": []
  }
 ],
 "metadata": {
  "kernelspec": {
   "display_name": "Python 3",
   "language": "python",
   "name": "python3"
  },
  "language_info": {
   "codemirror_mode": {
    "name": "ipython",
    "version": 3
   },
   "file_extension": ".py",
   "mimetype": "text/x-python",
   "name": "python",
   "nbconvert_exporter": "python",
   "pygments_lexer": "ipython3",
   "version": "3.7.4"
  }
 },
 "nbformat": 4,
 "nbformat_minor": 2
}
